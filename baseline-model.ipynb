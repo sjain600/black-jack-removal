{
 "cells": [
  {
   "cell_type": "code",
   "execution_count": 1,
   "id": "2621b804",
   "metadata": {
    "_cell_guid": "b1076dfc-b9ad-4769-8c92-a6c4dae69d19",
    "_uuid": "8f2839f25d086af736a60e9eeb907d3b93b6e0e5",
    "execution": {
     "iopub.execute_input": "2025-04-25T04:07:10.972237Z",
     "iopub.status.busy": "2025-04-25T04:07:10.971356Z",
     "iopub.status.idle": "2025-04-25T04:07:14.592826Z",
     "shell.execute_reply": "2025-04-25T04:07:14.591837Z"
    },
    "papermill": {
     "duration": 3.627817,
     "end_time": "2025-04-25T04:07:14.594358",
     "exception": false,
     "start_time": "2025-04-25T04:07:10.966541",
     "status": "completed"
    },
    "tags": []
   },
   "outputs": [
    {
     "name": "stdout",
     "output_type": "stream",
     "text": [
      "/kaggle/input/black-jack-smart-effect-of-removal-ml/sample_submission.csv\n",
      "/kaggle/input/black-jack-smart-effect-of-removal-ml/train.csv\n",
      "/kaggle/input/black-jack-smart-effect-of-removal-ml/test.csv\n"
     ]
    }
   ],
   "source": [
    "# This Python 3 environment comes with many helpful analytics libraries installed\n",
    "# It is defined by the kaggle/python Docker image: https://github.com/kaggle/docker-python\n",
    "# For example, here's several helpful packages to load\n",
    "\n",
    "import numpy as np # linear algebra\n",
    "import pandas as pd # data processing, CSV file I/O (e.g. pd.read_csv)\n",
    "import matplotlib.pyplot as plt\n",
    "import seaborn as sns\n",
    "\n",
    "# Setting matplotlib defaults\n",
    "plt.rc('figure', figsize=(8, 5), dpi=120)\n",
    "\n",
    "plt.rc('axes', labelweight='bold', labelsize='large',\n",
    "       titleweight='bold', titlesize=15, titlepad=10)\n",
    "\n",
    "# Input data files are available in the read-only \"../input/\" directory\n",
    "# For example, running this (by clicking run or pressing Shift+Enter) will list all files under the input directory\n",
    "\n",
    "import os\n",
    "for dirname, _, filenames in os.walk('/kaggle/input'):\n",
    "    for filename in filenames:\n",
    "        print(os.path.join(dirname, filename))\n",
    "\n",
    "# You can write up to 20GB to the current directory (/kaggle/working/) that gets preserved as output when you create a version using \"Save & Run All\" \n",
    "# You can also write temporary files to /kaggle/temp/, but they won't be saved outside of the current session"
   ]
  },
  {
   "cell_type": "code",
   "execution_count": 2,
   "id": "64f29218",
   "metadata": {
    "execution": {
     "iopub.execute_input": "2025-04-25T04:07:14.602114Z",
     "iopub.status.busy": "2025-04-25T04:07:14.601650Z",
     "iopub.status.idle": "2025-04-25T04:07:14.770858Z",
     "shell.execute_reply": "2025-04-25T04:07:14.769955Z"
    },
    "papermill": {
     "duration": 0.174769,
     "end_time": "2025-04-25T04:07:14.772540",
     "exception": false,
     "start_time": "2025-04-25T04:07:14.597771",
     "status": "completed"
    },
    "tags": []
   },
   "outputs": [],
   "source": [
    "train = pd.read_csv('/kaggle/input/black-jack-smart-effect-of-removal-ml/train.csv', index_col='id')\n",
    "test = pd.read_csv('/kaggle/input/black-jack-smart-effect-of-removal-ml/test.csv', index_col='id')"
   ]
  },
  {
   "cell_type": "markdown",
   "id": "f80d8c67",
   "metadata": {
    "papermill": {
     "duration": 0.002786,
     "end_time": "2025-04-25T04:07:14.778472",
     "exception": false,
     "start_time": "2025-04-25T04:07:14.775686",
     "status": "completed"
    },
    "tags": []
   },
   "source": [
    "# Data Understanding"
   ]
  },
  {
   "cell_type": "code",
   "execution_count": 3,
   "id": "8a15ed8c",
   "metadata": {
    "execution": {
     "iopub.execute_input": "2025-04-25T04:07:14.785704Z",
     "iopub.status.busy": "2025-04-25T04:07:14.785016Z",
     "iopub.status.idle": "2025-04-25T04:07:14.807692Z",
     "shell.execute_reply": "2025-04-25T04:07:14.806932Z"
    },
    "papermill": {
     "duration": 0.027699,
     "end_time": "2025-04-25T04:07:14.809028",
     "exception": false,
     "start_time": "2025-04-25T04:07:14.781329",
     "status": "completed"
    },
    "tags": []
   },
   "outputs": [
    {
     "data": {
      "text/html": [
       "<div>\n",
       "<style scoped>\n",
       "    .dataframe tbody tr th:only-of-type {\n",
       "        vertical-align: middle;\n",
       "    }\n",
       "\n",
       "    .dataframe tbody tr th {\n",
       "        vertical-align: top;\n",
       "    }\n",
       "\n",
       "    .dataframe thead th {\n",
       "        text-align: right;\n",
       "    }\n",
       "</style>\n",
       "<table border=\"1\" class=\"dataframe\">\n",
       "  <thead>\n",
       "    <tr style=\"text-align: right;\">\n",
       "      <th></th>\n",
       "      <th>1</th>\n",
       "      <th>2</th>\n",
       "      <th>3</th>\n",
       "      <th>4</th>\n",
       "      <th>5</th>\n",
       "      <th>6</th>\n",
       "      <th>7</th>\n",
       "      <th>8</th>\n",
       "      <th>9</th>\n",
       "      <th>10</th>\n",
       "      <th>ev</th>\n",
       "    </tr>\n",
       "    <tr>\n",
       "      <th>id</th>\n",
       "      <th></th>\n",
       "      <th></th>\n",
       "      <th></th>\n",
       "      <th></th>\n",
       "      <th></th>\n",
       "      <th></th>\n",
       "      <th></th>\n",
       "      <th></th>\n",
       "      <th></th>\n",
       "      <th></th>\n",
       "      <th></th>\n",
       "    </tr>\n",
       "  </thead>\n",
       "  <tbody>\n",
       "    <tr>\n",
       "      <th>0</th>\n",
       "      <td>12</td>\n",
       "      <td>6</td>\n",
       "      <td>16</td>\n",
       "      <td>11</td>\n",
       "      <td>14</td>\n",
       "      <td>14</td>\n",
       "      <td>15</td>\n",
       "      <td>20</td>\n",
       "      <td>11</td>\n",
       "      <td>61</td>\n",
       "      <td>-0.037038</td>\n",
       "    </tr>\n",
       "    <tr>\n",
       "      <th>1</th>\n",
       "      <td>7</td>\n",
       "      <td>6</td>\n",
       "      <td>7</td>\n",
       "      <td>6</td>\n",
       "      <td>10</td>\n",
       "      <td>10</td>\n",
       "      <td>9</td>\n",
       "      <td>10</td>\n",
       "      <td>5</td>\n",
       "      <td>30</td>\n",
       "      <td>-0.019283</td>\n",
       "    </tr>\n",
       "    <tr>\n",
       "      <th>2</th>\n",
       "      <td>9</td>\n",
       "      <td>9</td>\n",
       "      <td>5</td>\n",
       "      <td>8</td>\n",
       "      <td>9</td>\n",
       "      <td>8</td>\n",
       "      <td>7</td>\n",
       "      <td>7</td>\n",
       "      <td>7</td>\n",
       "      <td>31</td>\n",
       "      <td>-0.024862</td>\n",
       "    </tr>\n",
       "    <tr>\n",
       "      <th>3</th>\n",
       "      <td>13</td>\n",
       "      <td>16</td>\n",
       "      <td>12</td>\n",
       "      <td>10</td>\n",
       "      <td>12</td>\n",
       "      <td>14</td>\n",
       "      <td>12</td>\n",
       "      <td>12</td>\n",
       "      <td>11</td>\n",
       "      <td>48</td>\n",
       "      <td>-0.023246</td>\n",
       "    </tr>\n",
       "    <tr>\n",
       "      <th>4</th>\n",
       "      <td>7</td>\n",
       "      <td>8</td>\n",
       "      <td>8</td>\n",
       "      <td>9</td>\n",
       "      <td>11</td>\n",
       "      <td>10</td>\n",
       "      <td>5</td>\n",
       "      <td>12</td>\n",
       "      <td>8</td>\n",
       "      <td>42</td>\n",
       "      <td>-0.025703</td>\n",
       "    </tr>\n",
       "    <tr>\n",
       "      <th>5</th>\n",
       "      <td>7</td>\n",
       "      <td>7</td>\n",
       "      <td>5</td>\n",
       "      <td>8</td>\n",
       "      <td>6</td>\n",
       "      <td>8</td>\n",
       "      <td>9</td>\n",
       "      <td>9</td>\n",
       "      <td>9</td>\n",
       "      <td>32</td>\n",
       "      <td>-0.032025</td>\n",
       "    </tr>\n",
       "    <tr>\n",
       "      <th>6</th>\n",
       "      <td>2</td>\n",
       "      <td>2</td>\n",
       "      <td>2</td>\n",
       "      <td>1</td>\n",
       "      <td>4</td>\n",
       "      <td>2</td>\n",
       "      <td>4</td>\n",
       "      <td>6</td>\n",
       "      <td>2</td>\n",
       "      <td>15</td>\n",
       "      <td>-0.029387</td>\n",
       "    </tr>\n",
       "    <tr>\n",
       "      <th>7</th>\n",
       "      <td>2</td>\n",
       "      <td>2</td>\n",
       "      <td>0</td>\n",
       "      <td>0</td>\n",
       "      <td>4</td>\n",
       "      <td>1</td>\n",
       "      <td>1</td>\n",
       "      <td>2</td>\n",
       "      <td>2</td>\n",
       "      <td>6</td>\n",
       "      <td>-0.024910</td>\n",
       "    </tr>\n",
       "    <tr>\n",
       "      <th>8</th>\n",
       "      <td>18</td>\n",
       "      <td>13</td>\n",
       "      <td>16</td>\n",
       "      <td>15</td>\n",
       "      <td>14</td>\n",
       "      <td>17</td>\n",
       "      <td>17</td>\n",
       "      <td>14</td>\n",
       "      <td>16</td>\n",
       "      <td>60</td>\n",
       "      <td>-0.030389</td>\n",
       "    </tr>\n",
       "    <tr>\n",
       "      <th>9</th>\n",
       "      <td>14</td>\n",
       "      <td>13</td>\n",
       "      <td>17</td>\n",
       "      <td>11</td>\n",
       "      <td>11</td>\n",
       "      <td>14</td>\n",
       "      <td>14</td>\n",
       "      <td>18</td>\n",
       "      <td>14</td>\n",
       "      <td>54</td>\n",
       "      <td>-0.035126</td>\n",
       "    </tr>\n",
       "  </tbody>\n",
       "</table>\n",
       "</div>"
      ],
      "text/plain": [
       "     1   2   3   4   5   6   7   8   9  10        ev\n",
       "id                                                  \n",
       "0   12   6  16  11  14  14  15  20  11  61 -0.037038\n",
       "1    7   6   7   6  10  10   9  10   5  30 -0.019283\n",
       "2    9   9   5   8   9   8   7   7   7  31 -0.024862\n",
       "3   13  16  12  10  12  14  12  12  11  48 -0.023246\n",
       "4    7   8   8   9  11  10   5  12   8  42 -0.025703\n",
       "5    7   7   5   8   6   8   9   9   9  32 -0.032025\n",
       "6    2   2   2   1   4   2   4   6   2  15 -0.029387\n",
       "7    2   2   0   0   4   1   1   2   2   6 -0.024910\n",
       "8   18  13  16  15  14  17  17  14  16  60 -0.030389\n",
       "9   14  13  17  11  11  14  14  18  14  54 -0.035126"
      ]
     },
     "execution_count": 3,
     "metadata": {},
     "output_type": "execute_result"
    }
   ],
   "source": [
    "train.head(10)"
   ]
  },
  {
   "cell_type": "code",
   "execution_count": 4,
   "id": "0a560210",
   "metadata": {
    "execution": {
     "iopub.execute_input": "2025-04-25T04:07:14.816768Z",
     "iopub.status.busy": "2025-04-25T04:07:14.816094Z",
     "iopub.status.idle": "2025-04-25T04:07:14.821162Z",
     "shell.execute_reply": "2025-04-25T04:07:14.820520Z"
    },
    "papermill": {
     "duration": 0.010201,
     "end_time": "2025-04-25T04:07:14.822451",
     "exception": false,
     "start_time": "2025-04-25T04:07:14.812250",
     "status": "completed"
    },
    "tags": []
   },
   "outputs": [
    {
     "data": {
      "text/plain": [
       "(20500, 11)"
      ]
     },
     "execution_count": 4,
     "metadata": {},
     "output_type": "execute_result"
    }
   ],
   "source": [
    "train.shape"
   ]
  },
  {
   "cell_type": "code",
   "execution_count": 5,
   "id": "75df5644",
   "metadata": {
    "execution": {
     "iopub.execute_input": "2025-04-25T04:07:14.831247Z",
     "iopub.status.busy": "2025-04-25T04:07:14.830645Z",
     "iopub.status.idle": "2025-04-25T04:07:14.835711Z",
     "shell.execute_reply": "2025-04-25T04:07:14.834920Z"
    },
    "papermill": {
     "duration": 0.010279,
     "end_time": "2025-04-25T04:07:14.837070",
     "exception": false,
     "start_time": "2025-04-25T04:07:14.826791",
     "status": "completed"
    },
    "tags": []
   },
   "outputs": [
    {
     "data": {
      "text/plain": [
       "(8655, 10)"
      ]
     },
     "execution_count": 5,
     "metadata": {},
     "output_type": "execute_result"
    }
   ],
   "source": [
    "test.shape"
   ]
  },
  {
   "cell_type": "code",
   "execution_count": 6,
   "id": "ec8b56bc",
   "metadata": {
    "execution": {
     "iopub.execute_input": "2025-04-25T04:07:14.844575Z",
     "iopub.status.busy": "2025-04-25T04:07:14.844278Z",
     "iopub.status.idle": "2025-04-25T04:07:14.853838Z",
     "shell.execute_reply": "2025-04-25T04:07:14.852790Z"
    },
    "papermill": {
     "duration": 0.014906,
     "end_time": "2025-04-25T04:07:14.855333",
     "exception": false,
     "start_time": "2025-04-25T04:07:14.840427",
     "status": "completed"
    },
    "tags": []
   },
   "outputs": [
    {
     "data": {
      "text/plain": [
       "1     0\n",
       "2     0\n",
       "3     0\n",
       "4     0\n",
       "5     0\n",
       "6     0\n",
       "7     0\n",
       "8     0\n",
       "9     0\n",
       "10    0\n",
       "ev    0\n",
       "dtype: int64"
      ]
     },
     "execution_count": 6,
     "metadata": {},
     "output_type": "execute_result"
    }
   ],
   "source": [
    "train.isnull().sum()"
   ]
  },
  {
   "cell_type": "code",
   "execution_count": 7,
   "id": "9a3b6431",
   "metadata": {
    "execution": {
     "iopub.execute_input": "2025-04-25T04:07:14.863796Z",
     "iopub.status.busy": "2025-04-25T04:07:14.863092Z",
     "iopub.status.idle": "2025-04-25T04:07:14.869856Z",
     "shell.execute_reply": "2025-04-25T04:07:14.869155Z"
    },
    "papermill": {
     "duration": 0.012199,
     "end_time": "2025-04-25T04:07:14.871141",
     "exception": false,
     "start_time": "2025-04-25T04:07:14.858942",
     "status": "completed"
    },
    "tags": []
   },
   "outputs": [
    {
     "data": {
      "text/plain": [
       "1     0\n",
       "2     0\n",
       "3     0\n",
       "4     0\n",
       "5     0\n",
       "6     0\n",
       "7     0\n",
       "8     0\n",
       "9     0\n",
       "10    0\n",
       "dtype: int64"
      ]
     },
     "execution_count": 7,
     "metadata": {},
     "output_type": "execute_result"
    }
   ],
   "source": [
    "test.isnull().sum()"
   ]
  },
  {
   "cell_type": "code",
   "execution_count": 8,
   "id": "232270be",
   "metadata": {
    "execution": {
     "iopub.execute_input": "2025-04-25T04:07:14.879624Z",
     "iopub.status.busy": "2025-04-25T04:07:14.879298Z",
     "iopub.status.idle": "2025-04-25T04:07:14.921669Z",
     "shell.execute_reply": "2025-04-25T04:07:14.920897Z"
    },
    "papermill": {
     "duration": 0.04844,
     "end_time": "2025-04-25T04:07:14.923113",
     "exception": false,
     "start_time": "2025-04-25T04:07:14.874673",
     "status": "completed"
    },
    "tags": []
   },
   "outputs": [
    {
     "data": {
      "text/html": [
       "<div>\n",
       "<style scoped>\n",
       "    .dataframe tbody tr th:only-of-type {\n",
       "        vertical-align: middle;\n",
       "    }\n",
       "\n",
       "    .dataframe tbody tr th {\n",
       "        vertical-align: top;\n",
       "    }\n",
       "\n",
       "    .dataframe thead th {\n",
       "        text-align: right;\n",
       "    }\n",
       "</style>\n",
       "<table border=\"1\" class=\"dataframe\">\n",
       "  <thead>\n",
       "    <tr style=\"text-align: right;\">\n",
       "      <th></th>\n",
       "      <th>1</th>\n",
       "      <th>2</th>\n",
       "      <th>3</th>\n",
       "      <th>4</th>\n",
       "      <th>5</th>\n",
       "      <th>6</th>\n",
       "      <th>7</th>\n",
       "      <th>8</th>\n",
       "      <th>9</th>\n",
       "      <th>10</th>\n",
       "      <th>ev</th>\n",
       "    </tr>\n",
       "  </thead>\n",
       "  <tbody>\n",
       "    <tr>\n",
       "      <th>count</th>\n",
       "      <td>20500.000000</td>\n",
       "      <td>20500.000000</td>\n",
       "      <td>20500.000000</td>\n",
       "      <td>20500.000000</td>\n",
       "      <td>20500.000000</td>\n",
       "      <td>20500.000000</td>\n",
       "      <td>20500.000000</td>\n",
       "      <td>20500.000000</td>\n",
       "      <td>20500.000000</td>\n",
       "      <td>20500.000000</td>\n",
       "      <td>20500.000000</td>\n",
       "    </tr>\n",
       "    <tr>\n",
       "      <th>mean</th>\n",
       "      <td>7.591756</td>\n",
       "      <td>7.601073</td>\n",
       "      <td>7.597951</td>\n",
       "      <td>7.577659</td>\n",
       "      <td>7.598439</td>\n",
       "      <td>7.592683</td>\n",
       "      <td>7.552049</td>\n",
       "      <td>7.568878</td>\n",
       "      <td>7.602439</td>\n",
       "      <td>30.334634</td>\n",
       "      <td>-0.023383</td>\n",
       "    </tr>\n",
       "    <tr>\n",
       "      <th>std</th>\n",
       "      <td>4.809277</td>\n",
       "      <td>4.771329</td>\n",
       "      <td>4.799255</td>\n",
       "      <td>4.764657</td>\n",
       "      <td>4.790892</td>\n",
       "      <td>4.796563</td>\n",
       "      <td>4.754059</td>\n",
       "      <td>4.773905</td>\n",
       "      <td>4.766625</td>\n",
       "      <td>17.658349</td>\n",
       "      <td>0.010041</td>\n",
       "    </tr>\n",
       "    <tr>\n",
       "      <th>min</th>\n",
       "      <td>0.000000</td>\n",
       "      <td>0.000000</td>\n",
       "      <td>0.000000</td>\n",
       "      <td>0.000000</td>\n",
       "      <td>0.000000</td>\n",
       "      <td>0.000000</td>\n",
       "      <td>0.000000</td>\n",
       "      <td>0.000000</td>\n",
       "      <td>0.000000</td>\n",
       "      <td>0.000000</td>\n",
       "      <td>-0.071232</td>\n",
       "    </tr>\n",
       "    <tr>\n",
       "      <th>25%</th>\n",
       "      <td>4.000000</td>\n",
       "      <td>4.000000</td>\n",
       "      <td>4.000000</td>\n",
       "      <td>4.000000</td>\n",
       "      <td>4.000000</td>\n",
       "      <td>4.000000</td>\n",
       "      <td>4.000000</td>\n",
       "      <td>4.000000</td>\n",
       "      <td>4.000000</td>\n",
       "      <td>15.000000</td>\n",
       "      <td>-0.029104</td>\n",
       "    </tr>\n",
       "    <tr>\n",
       "      <th>50%</th>\n",
       "      <td>7.000000</td>\n",
       "      <td>7.000000</td>\n",
       "      <td>7.000000</td>\n",
       "      <td>7.000000</td>\n",
       "      <td>7.000000</td>\n",
       "      <td>7.000000</td>\n",
       "      <td>7.000000</td>\n",
       "      <td>7.000000</td>\n",
       "      <td>7.000000</td>\n",
       "      <td>28.000000</td>\n",
       "      <td>-0.024109</td>\n",
       "    </tr>\n",
       "    <tr>\n",
       "      <th>75%</th>\n",
       "      <td>11.000000</td>\n",
       "      <td>11.000000</td>\n",
       "      <td>11.000000</td>\n",
       "      <td>11.000000</td>\n",
       "      <td>11.000000</td>\n",
       "      <td>11.000000</td>\n",
       "      <td>11.000000</td>\n",
       "      <td>11.000000</td>\n",
       "      <td>11.000000</td>\n",
       "      <td>44.000000</td>\n",
       "      <td>-0.018508</td>\n",
       "    </tr>\n",
       "    <tr>\n",
       "      <th>max</th>\n",
       "      <td>22.000000</td>\n",
       "      <td>22.000000</td>\n",
       "      <td>22.000000</td>\n",
       "      <td>21.000000</td>\n",
       "      <td>22.000000</td>\n",
       "      <td>22.000000</td>\n",
       "      <td>22.000000</td>\n",
       "      <td>22.000000</td>\n",
       "      <td>22.000000</td>\n",
       "      <td>74.000000</td>\n",
       "      <td>0.044198</td>\n",
       "    </tr>\n",
       "  </tbody>\n",
       "</table>\n",
       "</div>"
      ],
      "text/plain": [
       "                  1             2             3             4             5  \\\n",
       "count  20500.000000  20500.000000  20500.000000  20500.000000  20500.000000   \n",
       "mean       7.591756      7.601073      7.597951      7.577659      7.598439   \n",
       "std        4.809277      4.771329      4.799255      4.764657      4.790892   \n",
       "min        0.000000      0.000000      0.000000      0.000000      0.000000   \n",
       "25%        4.000000      4.000000      4.000000      4.000000      4.000000   \n",
       "50%        7.000000      7.000000      7.000000      7.000000      7.000000   \n",
       "75%       11.000000     11.000000     11.000000     11.000000     11.000000   \n",
       "max       22.000000     22.000000     22.000000     21.000000     22.000000   \n",
       "\n",
       "                  6             7             8             9            10  \\\n",
       "count  20500.000000  20500.000000  20500.000000  20500.000000  20500.000000   \n",
       "mean       7.592683      7.552049      7.568878      7.602439     30.334634   \n",
       "std        4.796563      4.754059      4.773905      4.766625     17.658349   \n",
       "min        0.000000      0.000000      0.000000      0.000000      0.000000   \n",
       "25%        4.000000      4.000000      4.000000      4.000000     15.000000   \n",
       "50%        7.000000      7.000000      7.000000      7.000000     28.000000   \n",
       "75%       11.000000     11.000000     11.000000     11.000000     44.000000   \n",
       "max       22.000000     22.000000     22.000000     22.000000     74.000000   \n",
       "\n",
       "                 ev  \n",
       "count  20500.000000  \n",
       "mean      -0.023383  \n",
       "std        0.010041  \n",
       "min       -0.071232  \n",
       "25%       -0.029104  \n",
       "50%       -0.024109  \n",
       "75%       -0.018508  \n",
       "max        0.044198  "
      ]
     },
     "execution_count": 8,
     "metadata": {},
     "output_type": "execute_result"
    }
   ],
   "source": [
    "train.describe()"
   ]
  },
  {
   "cell_type": "code",
   "execution_count": 9,
   "id": "8572758f",
   "metadata": {
    "execution": {
     "iopub.execute_input": "2025-04-25T04:07:14.931881Z",
     "iopub.status.busy": "2025-04-25T04:07:14.931235Z",
     "iopub.status.idle": "2025-04-25T04:07:15.364712Z",
     "shell.execute_reply": "2025-04-25T04:07:15.363779Z"
    },
    "papermill": {
     "duration": 0.439222,
     "end_time": "2025-04-25T04:07:15.366171",
     "exception": false,
     "start_time": "2025-04-25T04:07:14.926949",
     "status": "completed"
    },
    "tags": []
   },
   "outputs": [
    {
     "name": "stderr",
     "output_type": "stream",
     "text": [
      "/usr/local/lib/python3.11/dist-packages/seaborn/_oldcore.py:1119: FutureWarning: use_inf_as_na option is deprecated and will be removed in a future version. Convert inf values to NaN before operating instead.\n",
      "  with pd.option_context('mode.use_inf_as_na', True):\n"
     ]
    },
    {
     "data": {
      "image/png": "[encoded data removed]",
      "text/plain": [
       "<Figure size 960x600 with 1 Axes>"
      ]
     },
     "metadata": {},
     "output_type": "display_data"
    }
   ],
   "source": [
    "sns.histplot(x='ev', data=train, bins=20, kde=True, color='red')\n",
    "plt.show()"
   ]
  },
  {
   "cell_type": "code",
   "execution_count": 10,
   "id": "c14d84a1",
   "metadata": {
    "execution": {
     "iopub.execute_input": "2025-04-25T04:07:15.376033Z",
     "iopub.status.busy": "2025-04-25T04:07:15.375486Z",
     "iopub.status.idle": "2025-04-25T04:07:15.897518Z",
     "shell.execute_reply": "2025-04-25T04:07:15.896542Z"
    },
    "papermill": {
     "duration": 0.529797,
     "end_time": "2025-04-25T04:07:15.900259",
     "exception": false,
     "start_time": "2025-04-25T04:07:15.370462",
     "status": "completed"
    },
    "tags": []
   },
   "outputs": [
    {
     "data": {
      "text/plain": [
       "<Axes: >"
      ]
     },
     "execution_count": 10,
     "metadata": {},
     "output_type": "execute_result"
    },
    {
     "data": {
      "image/png": "[encoded data removed]",
      "text/plain": [
       "<Figure size 960x600 with 2 Axes>"
      ]
     },
     "metadata": {},
     "output_type": "display_data"
    }
   ],
   "source": [
    "sns.heatmap(train.corr(), annot=True, cmap='viridis', fmt='.2f', linewidths=0.5)"
   ]
  },
  {
   "cell_type": "code",
   "execution_count": 11,
   "id": "3abe66f2",
   "metadata": {
    "execution": {
     "iopub.execute_input": "2025-04-25T04:07:15.913024Z",
     "iopub.status.busy": "2025-04-25T04:07:15.912740Z",
     "iopub.status.idle": "2025-04-25T04:07:16.216102Z",
     "shell.execute_reply": "2025-04-25T04:07:16.215257Z"
    },
    "papermill": {
     "duration": 0.31175,
     "end_time": "2025-04-25T04:07:16.217917",
     "exception": false,
     "start_time": "2025-04-25T04:07:15.906167",
     "status": "completed"
    },
    "tags": []
   },
   "outputs": [],
   "source": [
    "from sklearn.model_selection import train_test_split, KFold\n",
    "\n",
    "X = train.copy()\n",
    "y = X.pop('ev')\n",
    "X_test = test.copy()\n",
    "\n",
    "kf = KFold(n_splits=10, shuffle=True, random_state=34)\n",
    "#X_train, X_valid, y_train, y_valid = train_test_split(X, y, train_size=0.8, random_state=34)\n",
    "for train_index, valid_index in kf.split(X, y):\n",
    "    X_train, X_valid = X.iloc[train_index], X.iloc[valid_index]\n",
    "    y_train, y_valid = y.iloc[train_index], y.iloc[valid_index]\n"
   ]
  },
  {
   "cell_type": "code",
   "execution_count": 12,
   "id": "686eb4a9",
   "metadata": {
    "execution": {
     "iopub.execute_input": "2025-04-25T04:07:16.231581Z",
     "iopub.status.busy": "2025-04-25T04:07:16.230880Z",
     "iopub.status.idle": "2025-04-25T04:07:16.666514Z",
     "shell.execute_reply": "2025-04-25T04:07:16.664547Z"
    },
    "papermill": {
     "duration": 0.444065,
     "end_time": "2025-04-25T04:07:16.667970",
     "exception": false,
     "start_time": "2025-04-25T04:07:16.223905",
     "status": "completed"
    },
    "tags": []
   },
   "outputs": [
    {
     "name": "stdout",
     "output_type": "stream",
     "text": [
      "MSE: 4.065527521575035e-06\n"
     ]
    }
   ],
   "source": [
    "from xgboost import XGBRegressor\n",
    "from sklearn.metrics import mean_squared_error\n",
    "\n",
    "xgb = XGBRegressor(random_state=34).fit(X_train, y_train, verbose=0)\n",
    "\n",
    "xgb_pred = xgb.predict(X_valid)\n",
    "print(f'MSE: {mean_squared_error(y_valid, xgb_pred)}')"
   ]
  },
  {
   "cell_type": "code",
   "execution_count": 13,
   "id": "527add14",
   "metadata": {
    "execution": {
     "iopub.execute_input": "2025-04-25T04:07:16.681327Z",
     "iopub.status.busy": "2025-04-25T04:07:16.681039Z",
     "iopub.status.idle": "2025-04-25T04:07:16.728190Z",
     "shell.execute_reply": "2025-04-25T04:07:16.727029Z"
    },
    "papermill": {
     "duration": 0.055133,
     "end_time": "2025-04-25T04:07:16.729656",
     "exception": false,
     "start_time": "2025-04-25T04:07:16.674523",
     "status": "completed"
    },
    "tags": []
   },
   "outputs": [
    {
     "name": "stdout",
     "output_type": "stream",
     "text": [
      "Your submission was successfully saved!\n"
     ]
    }
   ],
   "source": [
    "test_pred = xgb.predict(X_test)\n",
    "sub = pd.read_csv('/kaggle/input/black-jack-smart-effect-of-removal-ml/sample_submission.csv')\n",
    "sub['ev'] = test_pred\n",
    "sub.to_csv('submission.csv', index=False)\n",
    "print(\"Your submission was successfully saved!\")"
   ]
  }
 ],
 "metadata": {
  "kaggle": {
   "accelerator": "none",
   "dataSources": [
    {
     "databundleVersionId": 11195319,
     "sourceId": 94020,
     "sourceType": "competition"
    }
   ],
   "dockerImageVersionId": 31012,
   "isGpuEnabled": false,
   "isInternetEnabled": true,
   "language": "python",
   "sourceType": "notebook"
  },
  "kernelspec": {
   "display_name": "Python 3",
   "language": "python",
   "name": "python3"
  },
  "language_info": {
   "codemirror_mode": {
    "name": "ipython",
    "version": 3
   },
   "file_extension": ".py",
   "mimetype": "text/x-python",
   "name": "python",
   "nbconvert_exporter": "python",
   "pygments_lexer": "ipython3",
   "version": "3.11.11"
  },
  "papermill": {
   "default_parameters": {},
   "duration": 11.272268,
   "end_time": "2025-04-25T04:07:17.454950",
   "environment_variables": {},
   "exception": null,
   "input_path": "__notebook__.ipynb",
   "output_path": "__notebook__.ipynb",
   "parameters": {},
   "start_time": "2025-04-25T04:07:06.182682",
   "version": "2.6.0"
  }
 },
 "nbformat": 4,
 "nbformat_minor": 5
}
