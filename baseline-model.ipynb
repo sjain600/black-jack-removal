{
 "cells": [
  {
   "cell_type": "code",
   "execution_count": 1,
   "id": "e2571668",
   "metadata": {
    "_cell_guid": "b1076dfc-b9ad-4769-8c92-a6c4dae69d19",
    "_uuid": "8f2839f25d086af736a60e9eeb907d3b93b6e0e5",
    "execution": {
     "iopub.execute_input": "2025-04-24T13:40:07.325770Z",
     "iopub.status.busy": "2025-04-24T13:40:07.325418Z",
     "iopub.status.idle": "2025-04-24T13:40:09.190811Z",
     "shell.execute_reply": "2025-04-24T13:40:09.189677Z"
    },
    "papermill": {
     "duration": 1.873223,
     "end_time": "2025-04-24T13:40:09.192429",
     "exception": false,
     "start_time": "2025-04-24T13:40:07.319206",
     "status": "completed"
    },
    "tags": []
   },
   "outputs": [
    {
     "name": "stdout",
     "output_type": "stream",
     "text": [
      "/kaggle/input/black-jack-smart-effect-of-removal-ml/sample_submission.csv\n",
      "/kaggle/input/black-jack-smart-effect-of-removal-ml/train.csv\n",
      "/kaggle/input/black-jack-smart-effect-of-removal-ml/test.csv\n"
     ]
    }
   ],
   "source": [
    "# This Python 3 environment comes with many helpful analytics libraries installed\n",
    "# It is defined by the kaggle/python Docker image: https://github.com/kaggle/docker-python\n",
    "# For example, here's several helpful packages to load\n",
    "\n",
    "import numpy as np # linear algebra\n",
    "import pandas as pd # data processing, CSV file I/O (e.g. pd.read_csv)\n",
    "\n",
    "# Input data files are available in the read-only \"../input/\" directory\n",
    "# For example, running this (by clicking run or pressing Shift+Enter) will list all files under the input directory\n",
    "\n",
    "import os\n",
    "for dirname, _, filenames in os.walk('/kaggle/input'):\n",
    "    for filename in filenames:\n",
    "        print(os.path.join(dirname, filename))\n",
    "\n",
    "# You can write up to 20GB to the current directory (/kaggle/working/) that gets preserved as output when you create a version using \"Save & Run All\" \n",
    "# You can also write temporary files to /kaggle/temp/, but they won't be saved outside of the current session"
   ]
  },
  {
   "cell_type": "code",
   "execution_count": 2,
   "id": "57144923",
   "metadata": {
    "execution": {
     "iopub.execute_input": "2025-04-24T13:40:09.199773Z",
     "iopub.status.busy": "2025-04-24T13:40:09.199132Z",
     "iopub.status.idle": "2025-04-24T13:40:09.275568Z",
     "shell.execute_reply": "2025-04-24T13:40:09.274815Z"
    },
    "papermill": {
     "duration": 0.081461,
     "end_time": "2025-04-24T13:40:09.277092",
     "exception": false,
     "start_time": "2025-04-24T13:40:09.195631",
     "status": "completed"
    },
    "tags": []
   },
   "outputs": [],
   "source": [
    "train = pd.read_csv('/kaggle/input/black-jack-smart-effect-of-removal-ml/train.csv', index_col='id')\n",
    "test = pd.read_csv('/kaggle/input/black-jack-smart-effect-of-removal-ml/test.csv', index_col='id')"
   ]
  },
  {
   "cell_type": "code",
   "execution_count": 3,
   "id": "9bfe2e3f",
   "metadata": {
    "execution": {
     "iopub.execute_input": "2025-04-24T13:40:09.283666Z",
     "iopub.status.busy": "2025-04-24T13:40:09.283341Z",
     "iopub.status.idle": "2025-04-24T13:40:09.307343Z",
     "shell.execute_reply": "2025-04-24T13:40:09.306158Z"
    },
    "papermill": {
     "duration": 0.029216,
     "end_time": "2025-04-24T13:40:09.309077",
     "exception": false,
     "start_time": "2025-04-24T13:40:09.279861",
     "status": "completed"
    },
    "tags": []
   },
   "outputs": [
    {
     "data": {
      "text/html": [
       "<div>\n",
       "<style scoped>\n",
       "    .dataframe tbody tr th:only-of-type {\n",
       "        vertical-align: middle;\n",
       "    }\n",
       "\n",
       "    .dataframe tbody tr th {\n",
       "        vertical-align: top;\n",
       "    }\n",
       "\n",
       "    .dataframe thead th {\n",
       "        text-align: right;\n",
       "    }\n",
       "</style>\n",
       "<table border=\"1\" class=\"dataframe\">\n",
       "  <thead>\n",
       "    <tr style=\"text-align: right;\">\n",
       "      <th></th>\n",
       "      <th>1</th>\n",
       "      <th>2</th>\n",
       "      <th>3</th>\n",
       "      <th>4</th>\n",
       "      <th>5</th>\n",
       "      <th>6</th>\n",
       "      <th>7</th>\n",
       "      <th>8</th>\n",
       "      <th>9</th>\n",
       "      <th>10</th>\n",
       "      <th>ev</th>\n",
       "    </tr>\n",
       "    <tr>\n",
       "      <th>id</th>\n",
       "      <th></th>\n",
       "      <th></th>\n",
       "      <th></th>\n",
       "      <th></th>\n",
       "      <th></th>\n",
       "      <th></th>\n",
       "      <th></th>\n",
       "      <th></th>\n",
       "      <th></th>\n",
       "      <th></th>\n",
       "      <th></th>\n",
       "    </tr>\n",
       "  </thead>\n",
       "  <tbody>\n",
       "    <tr>\n",
       "      <th>0</th>\n",
       "      <td>12</td>\n",
       "      <td>6</td>\n",
       "      <td>16</td>\n",
       "      <td>11</td>\n",
       "      <td>14</td>\n",
       "      <td>14</td>\n",
       "      <td>15</td>\n",
       "      <td>20</td>\n",
       "      <td>11</td>\n",
       "      <td>61</td>\n",
       "      <td>-0.037038</td>\n",
       "    </tr>\n",
       "    <tr>\n",
       "      <th>1</th>\n",
       "      <td>7</td>\n",
       "      <td>6</td>\n",
       "      <td>7</td>\n",
       "      <td>6</td>\n",
       "      <td>10</td>\n",
       "      <td>10</td>\n",
       "      <td>9</td>\n",
       "      <td>10</td>\n",
       "      <td>5</td>\n",
       "      <td>30</td>\n",
       "      <td>-0.019283</td>\n",
       "    </tr>\n",
       "    <tr>\n",
       "      <th>2</th>\n",
       "      <td>9</td>\n",
       "      <td>9</td>\n",
       "      <td>5</td>\n",
       "      <td>8</td>\n",
       "      <td>9</td>\n",
       "      <td>8</td>\n",
       "      <td>7</td>\n",
       "      <td>7</td>\n",
       "      <td>7</td>\n",
       "      <td>31</td>\n",
       "      <td>-0.024862</td>\n",
       "    </tr>\n",
       "    <tr>\n",
       "      <th>3</th>\n",
       "      <td>13</td>\n",
       "      <td>16</td>\n",
       "      <td>12</td>\n",
       "      <td>10</td>\n",
       "      <td>12</td>\n",
       "      <td>14</td>\n",
       "      <td>12</td>\n",
       "      <td>12</td>\n",
       "      <td>11</td>\n",
       "      <td>48</td>\n",
       "      <td>-0.023246</td>\n",
       "    </tr>\n",
       "    <tr>\n",
       "      <th>4</th>\n",
       "      <td>7</td>\n",
       "      <td>8</td>\n",
       "      <td>8</td>\n",
       "      <td>9</td>\n",
       "      <td>11</td>\n",
       "      <td>10</td>\n",
       "      <td>5</td>\n",
       "      <td>12</td>\n",
       "      <td>8</td>\n",
       "      <td>42</td>\n",
       "      <td>-0.025703</td>\n",
       "    </tr>\n",
       "    <tr>\n",
       "      <th>5</th>\n",
       "      <td>7</td>\n",
       "      <td>7</td>\n",
       "      <td>5</td>\n",
       "      <td>8</td>\n",
       "      <td>6</td>\n",
       "      <td>8</td>\n",
       "      <td>9</td>\n",
       "      <td>9</td>\n",
       "      <td>9</td>\n",
       "      <td>32</td>\n",
       "      <td>-0.032025</td>\n",
       "    </tr>\n",
       "    <tr>\n",
       "      <th>6</th>\n",
       "      <td>2</td>\n",
       "      <td>2</td>\n",
       "      <td>2</td>\n",
       "      <td>1</td>\n",
       "      <td>4</td>\n",
       "      <td>2</td>\n",
       "      <td>4</td>\n",
       "      <td>6</td>\n",
       "      <td>2</td>\n",
       "      <td>15</td>\n",
       "      <td>-0.029387</td>\n",
       "    </tr>\n",
       "    <tr>\n",
       "      <th>7</th>\n",
       "      <td>2</td>\n",
       "      <td>2</td>\n",
       "      <td>0</td>\n",
       "      <td>0</td>\n",
       "      <td>4</td>\n",
       "      <td>1</td>\n",
       "      <td>1</td>\n",
       "      <td>2</td>\n",
       "      <td>2</td>\n",
       "      <td>6</td>\n",
       "      <td>-0.024910</td>\n",
       "    </tr>\n",
       "    <tr>\n",
       "      <th>8</th>\n",
       "      <td>18</td>\n",
       "      <td>13</td>\n",
       "      <td>16</td>\n",
       "      <td>15</td>\n",
       "      <td>14</td>\n",
       "      <td>17</td>\n",
       "      <td>17</td>\n",
       "      <td>14</td>\n",
       "      <td>16</td>\n",
       "      <td>60</td>\n",
       "      <td>-0.030389</td>\n",
       "    </tr>\n",
       "    <tr>\n",
       "      <th>9</th>\n",
       "      <td>14</td>\n",
       "      <td>13</td>\n",
       "      <td>17</td>\n",
       "      <td>11</td>\n",
       "      <td>11</td>\n",
       "      <td>14</td>\n",
       "      <td>14</td>\n",
       "      <td>18</td>\n",
       "      <td>14</td>\n",
       "      <td>54</td>\n",
       "      <td>-0.035126</td>\n",
       "    </tr>\n",
       "  </tbody>\n",
       "</table>\n",
       "</div>"
      ],
      "text/plain": [
       "     1   2   3   4   5   6   7   8   9  10        ev\n",
       "id                                                  \n",
       "0   12   6  16  11  14  14  15  20  11  61 -0.037038\n",
       "1    7   6   7   6  10  10   9  10   5  30 -0.019283\n",
       "2    9   9   5   8   9   8   7   7   7  31 -0.024862\n",
       "3   13  16  12  10  12  14  12  12  11  48 -0.023246\n",
       "4    7   8   8   9  11  10   5  12   8  42 -0.025703\n",
       "5    7   7   5   8   6   8   9   9   9  32 -0.032025\n",
       "6    2   2   2   1   4   2   4   6   2  15 -0.029387\n",
       "7    2   2   0   0   4   1   1   2   2   6 -0.024910\n",
       "8   18  13  16  15  14  17  17  14  16  60 -0.030389\n",
       "9   14  13  17  11  11  14  14  18  14  54 -0.035126"
      ]
     },
     "execution_count": 3,
     "metadata": {},
     "output_type": "execute_result"
    }
   ],
   "source": [
    "train.head(10)"
   ]
  },
  {
   "cell_type": "code",
   "execution_count": 4,
   "id": "476082fc",
   "metadata": {
    "execution": {
     "iopub.execute_input": "2025-04-24T13:40:09.317029Z",
     "iopub.status.busy": "2025-04-24T13:40:09.316544Z",
     "iopub.status.idle": "2025-04-24T13:40:09.323698Z",
     "shell.execute_reply": "2025-04-24T13:40:09.322543Z"
    },
    "papermill": {
     "duration": 0.013076,
     "end_time": "2025-04-24T13:40:09.325320",
     "exception": false,
     "start_time": "2025-04-24T13:40:09.312244",
     "status": "completed"
    },
    "tags": []
   },
   "outputs": [
    {
     "data": {
      "text/plain": [
       "(20500, 11)"
      ]
     },
     "execution_count": 4,
     "metadata": {},
     "output_type": "execute_result"
    }
   ],
   "source": [
    "train.shape"
   ]
  },
  {
   "cell_type": "code",
   "execution_count": 5,
   "id": "f96ef86f",
   "metadata": {
    "execution": {
     "iopub.execute_input": "2025-04-24T13:40:09.332676Z",
     "iopub.status.busy": "2025-04-24T13:40:09.332360Z",
     "iopub.status.idle": "2025-04-24T13:40:09.337830Z",
     "shell.execute_reply": "2025-04-24T13:40:09.336978Z"
    },
    "papermill": {
     "duration": 0.01062,
     "end_time": "2025-04-24T13:40:09.339123",
     "exception": false,
     "start_time": "2025-04-24T13:40:09.328503",
     "status": "completed"
    },
    "tags": []
   },
   "outputs": [
    {
     "data": {
      "text/plain": [
       "(8655, 10)"
      ]
     },
     "execution_count": 5,
     "metadata": {},
     "output_type": "execute_result"
    }
   ],
   "source": [
    "test.shape"
   ]
  },
  {
   "cell_type": "code",
   "execution_count": 6,
   "id": "0a336484",
   "metadata": {
    "execution": {
     "iopub.execute_input": "2025-04-24T13:40:09.346354Z",
     "iopub.status.busy": "2025-04-24T13:40:09.346080Z",
     "iopub.status.idle": "2025-04-24T13:40:09.356096Z",
     "shell.execute_reply": "2025-04-24T13:40:09.355232Z"
    },
    "papermill": {
     "duration": 0.015261,
     "end_time": "2025-04-24T13:40:09.357557",
     "exception": false,
     "start_time": "2025-04-24T13:40:09.342296",
     "status": "completed"
    },
    "tags": []
   },
   "outputs": [
    {
     "data": {
      "text/plain": [
       "1     0\n",
       "2     0\n",
       "3     0\n",
       "4     0\n",
       "5     0\n",
       "6     0\n",
       "7     0\n",
       "8     0\n",
       "9     0\n",
       "10    0\n",
       "ev    0\n",
       "dtype: int64"
      ]
     },
     "execution_count": 6,
     "metadata": {},
     "output_type": "execute_result"
    }
   ],
   "source": [
    "train.isnull().sum()"
   ]
  },
  {
   "cell_type": "code",
   "execution_count": 7,
   "id": "514f6b72",
   "metadata": {
    "execution": {
     "iopub.execute_input": "2025-04-24T13:40:09.366245Z",
     "iopub.status.busy": "2025-04-24T13:40:09.365921Z",
     "iopub.status.idle": "2025-04-24T13:40:09.373542Z",
     "shell.execute_reply": "2025-04-24T13:40:09.372668Z"
    },
    "papermill": {
     "duration": 0.013,
     "end_time": "2025-04-24T13:40:09.375035",
     "exception": false,
     "start_time": "2025-04-24T13:40:09.362035",
     "status": "completed"
    },
    "tags": []
   },
   "outputs": [
    {
     "data": {
      "text/plain": [
       "1     0\n",
       "2     0\n",
       "3     0\n",
       "4     0\n",
       "5     0\n",
       "6     0\n",
       "7     0\n",
       "8     0\n",
       "9     0\n",
       "10    0\n",
       "dtype: int64"
      ]
     },
     "execution_count": 7,
     "metadata": {},
     "output_type": "execute_result"
    }
   ],
   "source": [
    "test.isnull().sum()"
   ]
  },
  {
   "cell_type": "code",
   "execution_count": 8,
   "id": "84f9c193",
   "metadata": {
    "execution": {
     "iopub.execute_input": "2025-04-24T13:40:09.383278Z",
     "iopub.status.busy": "2025-04-24T13:40:09.382975Z",
     "iopub.status.idle": "2025-04-24T13:40:09.427518Z",
     "shell.execute_reply": "2025-04-24T13:40:09.426673Z"
    },
    "papermill": {
     "duration": 0.050695,
     "end_time": "2025-04-24T13:40:09.429052",
     "exception": false,
     "start_time": "2025-04-24T13:40:09.378357",
     "status": "completed"
    },
    "tags": []
   },
   "outputs": [
    {
     "data": {
      "text/html": [
       "<div>\n",
       "<style scoped>\n",
       "    .dataframe tbody tr th:only-of-type {\n",
       "        vertical-align: middle;\n",
       "    }\n",
       "\n",
       "    .dataframe tbody tr th {\n",
       "        vertical-align: top;\n",
       "    }\n",
       "\n",
       "    .dataframe thead th {\n",
       "        text-align: right;\n",
       "    }\n",
       "</style>\n",
       "<table border=\"1\" class=\"dataframe\">\n",
       "  <thead>\n",
       "    <tr style=\"text-align: right;\">\n",
       "      <th></th>\n",
       "      <th>1</th>\n",
       "      <th>2</th>\n",
       "      <th>3</th>\n",
       "      <th>4</th>\n",
       "      <th>5</th>\n",
       "      <th>6</th>\n",
       "      <th>7</th>\n",
       "      <th>8</th>\n",
       "      <th>9</th>\n",
       "      <th>10</th>\n",
       "      <th>ev</th>\n",
       "    </tr>\n",
       "  </thead>\n",
       "  <tbody>\n",
       "    <tr>\n",
       "      <th>count</th>\n",
       "      <td>20500.000000</td>\n",
       "      <td>20500.000000</td>\n",
       "      <td>20500.000000</td>\n",
       "      <td>20500.000000</td>\n",
       "      <td>20500.000000</td>\n",
       "      <td>20500.000000</td>\n",
       "      <td>20500.000000</td>\n",
       "      <td>20500.000000</td>\n",
       "      <td>20500.000000</td>\n",
       "      <td>20500.000000</td>\n",
       "      <td>20500.000000</td>\n",
       "    </tr>\n",
       "    <tr>\n",
       "      <th>mean</th>\n",
       "      <td>7.591756</td>\n",
       "      <td>7.601073</td>\n",
       "      <td>7.597951</td>\n",
       "      <td>7.577659</td>\n",
       "      <td>7.598439</td>\n",
       "      <td>7.592683</td>\n",
       "      <td>7.552049</td>\n",
       "      <td>7.568878</td>\n",
       "      <td>7.602439</td>\n",
       "      <td>30.334634</td>\n",
       "      <td>-0.023383</td>\n",
       "    </tr>\n",
       "    <tr>\n",
       "      <th>std</th>\n",
       "      <td>4.809277</td>\n",
       "      <td>4.771329</td>\n",
       "      <td>4.799255</td>\n",
       "      <td>4.764657</td>\n",
       "      <td>4.790892</td>\n",
       "      <td>4.796563</td>\n",
       "      <td>4.754059</td>\n",
       "      <td>4.773905</td>\n",
       "      <td>4.766625</td>\n",
       "      <td>17.658349</td>\n",
       "      <td>0.010041</td>\n",
       "    </tr>\n",
       "    <tr>\n",
       "      <th>min</th>\n",
       "      <td>0.000000</td>\n",
       "      <td>0.000000</td>\n",
       "      <td>0.000000</td>\n",
       "      <td>0.000000</td>\n",
       "      <td>0.000000</td>\n",
       "      <td>0.000000</td>\n",
       "      <td>0.000000</td>\n",
       "      <td>0.000000</td>\n",
       "      <td>0.000000</td>\n",
       "      <td>0.000000</td>\n",
       "      <td>-0.071232</td>\n",
       "    </tr>\n",
       "    <tr>\n",
       "      <th>25%</th>\n",
       "      <td>4.000000</td>\n",
       "      <td>4.000000</td>\n",
       "      <td>4.000000</td>\n",
       "      <td>4.000000</td>\n",
       "      <td>4.000000</td>\n",
       "      <td>4.000000</td>\n",
       "      <td>4.000000</td>\n",
       "      <td>4.000000</td>\n",
       "      <td>4.000000</td>\n",
       "      <td>15.000000</td>\n",
       "      <td>-0.029104</td>\n",
       "    </tr>\n",
       "    <tr>\n",
       "      <th>50%</th>\n",
       "      <td>7.000000</td>\n",
       "      <td>7.000000</td>\n",
       "      <td>7.000000</td>\n",
       "      <td>7.000000</td>\n",
       "      <td>7.000000</td>\n",
       "      <td>7.000000</td>\n",
       "      <td>7.000000</td>\n",
       "      <td>7.000000</td>\n",
       "      <td>7.000000</td>\n",
       "      <td>28.000000</td>\n",
       "      <td>-0.024109</td>\n",
       "    </tr>\n",
       "    <tr>\n",
       "      <th>75%</th>\n",
       "      <td>11.000000</td>\n",
       "      <td>11.000000</td>\n",
       "      <td>11.000000</td>\n",
       "      <td>11.000000</td>\n",
       "      <td>11.000000</td>\n",
       "      <td>11.000000</td>\n",
       "      <td>11.000000</td>\n",
       "      <td>11.000000</td>\n",
       "      <td>11.000000</td>\n",
       "      <td>44.000000</td>\n",
       "      <td>-0.018508</td>\n",
       "    </tr>\n",
       "    <tr>\n",
       "      <th>max</th>\n",
       "      <td>22.000000</td>\n",
       "      <td>22.000000</td>\n",
       "      <td>22.000000</td>\n",
       "      <td>21.000000</td>\n",
       "      <td>22.000000</td>\n",
       "      <td>22.000000</td>\n",
       "      <td>22.000000</td>\n",
       "      <td>22.000000</td>\n",
       "      <td>22.000000</td>\n",
       "      <td>74.000000</td>\n",
       "      <td>0.044198</td>\n",
       "    </tr>\n",
       "  </tbody>\n",
       "</table>\n",
       "</div>"
      ],
      "text/plain": [
       "                  1             2             3             4             5  \\\n",
       "count  20500.000000  20500.000000  20500.000000  20500.000000  20500.000000   \n",
       "mean       7.591756      7.601073      7.597951      7.577659      7.598439   \n",
       "std        4.809277      4.771329      4.799255      4.764657      4.790892   \n",
       "min        0.000000      0.000000      0.000000      0.000000      0.000000   \n",
       "25%        4.000000      4.000000      4.000000      4.000000      4.000000   \n",
       "50%        7.000000      7.000000      7.000000      7.000000      7.000000   \n",
       "75%       11.000000     11.000000     11.000000     11.000000     11.000000   \n",
       "max       22.000000     22.000000     22.000000     21.000000     22.000000   \n",
       "\n",
       "                  6             7             8             9            10  \\\n",
       "count  20500.000000  20500.000000  20500.000000  20500.000000  20500.000000   \n",
       "mean       7.592683      7.552049      7.568878      7.602439     30.334634   \n",
       "std        4.796563      4.754059      4.773905      4.766625     17.658349   \n",
       "min        0.000000      0.000000      0.000000      0.000000      0.000000   \n",
       "25%        4.000000      4.000000      4.000000      4.000000     15.000000   \n",
       "50%        7.000000      7.000000      7.000000      7.000000     28.000000   \n",
       "75%       11.000000     11.000000     11.000000     11.000000     44.000000   \n",
       "max       22.000000     22.000000     22.000000     22.000000     74.000000   \n",
       "\n",
       "                 ev  \n",
       "count  20500.000000  \n",
       "mean      -0.023383  \n",
       "std        0.010041  \n",
       "min       -0.071232  \n",
       "25%       -0.029104  \n",
       "50%       -0.024109  \n",
       "75%       -0.018508  \n",
       "max        0.044198  "
      ]
     },
     "execution_count": 8,
     "metadata": {},
     "output_type": "execute_result"
    }
   ],
   "source": [
    "train.describe()"
   ]
  },
  {
   "cell_type": "code",
   "execution_count": 9,
   "id": "f440ba19",
   "metadata": {
    "execution": {
     "iopub.execute_input": "2025-04-24T13:40:09.437322Z",
     "iopub.status.busy": "2025-04-24T13:40:09.437001Z",
     "iopub.status.idle": "2025-04-24T13:40:11.031302Z",
     "shell.execute_reply": "2025-04-24T13:40:11.030357Z"
    },
    "papermill": {
     "duration": 1.6005,
     "end_time": "2025-04-24T13:40:11.033047",
     "exception": false,
     "start_time": "2025-04-24T13:40:09.432547",
     "status": "completed"
    },
    "tags": []
   },
   "outputs": [],
   "source": [
    "from sklearn.model_selection import train_test_split\n",
    "\n",
    "X = train.copy()\n",
    "y = X.pop('ev')\n",
    "X_test = test.copy()\n",
    "\n",
    "X_train, X_valid, y_train, y_valid = train_test_split(X, y, train_size=0.8, random_state=34)\n"
   ]
  },
  {
   "cell_type": "code",
   "execution_count": 10,
   "id": "d85a1ccc",
   "metadata": {
    "execution": {
     "iopub.execute_input": "2025-04-24T13:40:11.042096Z",
     "iopub.status.busy": "2025-04-24T13:40:11.041449Z",
     "iopub.status.idle": "2025-04-24T13:40:11.496006Z",
     "shell.execute_reply": "2025-04-24T13:40:11.494932Z"
    },
    "papermill": {
     "duration": 0.461315,
     "end_time": "2025-04-24T13:40:11.497790",
     "exception": false,
     "start_time": "2025-04-24T13:40:11.036475",
     "status": "completed"
    },
    "tags": []
   },
   "outputs": [
    {
     "name": "stdout",
     "output_type": "stream",
     "text": [
      "MSE: 4.886743115703379e-06\n"
     ]
    }
   ],
   "source": [
    "from xgboost import XGBRegressor\n",
    "from sklearn.metrics import mean_squared_error\n",
    "\n",
    "xgb = XGBRegressor(random_state=34).fit(X_train, y_train, verbose=0)\n",
    "\n",
    "xgb_pred = xgb.predict(X_valid)\n",
    "print(f'MSE: {mean_squared_error(y_valid, xgb_pred)}')"
   ]
  },
  {
   "cell_type": "code",
   "execution_count": 11,
   "id": "764f0bd9",
   "metadata": {
    "execution": {
     "iopub.execute_input": "2025-04-24T13:40:11.508418Z",
     "iopub.status.busy": "2025-04-24T13:40:11.508132Z",
     "iopub.status.idle": "2025-04-24T13:40:11.559228Z",
     "shell.execute_reply": "2025-04-24T13:40:11.558278Z"
    },
    "papermill": {
     "duration": 0.058079,
     "end_time": "2025-04-24T13:40:11.560818",
     "exception": false,
     "start_time": "2025-04-24T13:40:11.502739",
     "status": "completed"
    },
    "tags": []
   },
   "outputs": [
    {
     "name": "stdout",
     "output_type": "stream",
     "text": [
      "Your submission was successfully saved!\n"
     ]
    }
   ],
   "source": [
    "test_pred = xgb.predict(X_test)\n",
    "sub = pd.read_csv('/kaggle/input/black-jack-smart-effect-of-removal-ml/sample_submission.csv')\n",
    "sub['ev'] = test_pred\n",
    "sub.to_csv('submission.csv', index=False)\n",
    "print(\"Your submission was successfully saved!\")"
   ]
  }
 ],
 "metadata": {
  "kaggle": {
   "accelerator": "none",
   "dataSources": [
    {
     "databundleVersionId": 11195319,
     "sourceId": 94020,
     "sourceType": "competition"
    }
   ],
   "dockerImageVersionId": 31012,
   "isGpuEnabled": false,
   "isInternetEnabled": true,
   "language": "python",
   "sourceType": "notebook"
  },
  "kernelspec": {
   "display_name": "Python 3",
   "language": "python",
   "name": "python3"
  },
  "language_info": {
   "codemirror_mode": {
    "name": "ipython",
    "version": 3
   },
   "file_extension": ".py",
   "mimetype": "text/x-python",
   "name": "python",
   "nbconvert_exporter": "python",
   "pygments_lexer": "ipython3",
   "version": "3.11.11"
  },
  "papermill": {
   "default_parameters": {},
   "duration": 9.787683,
   "end_time": "2025-04-24T13:40:12.284940",
   "environment_variables": {},
   "exception": null,
   "input_path": "__notebook__.ipynb",
   "output_path": "__notebook__.ipynb",
   "parameters": {},
   "start_time": "2025-04-24T13:40:02.497257",
   "version": "2.6.0"
  }
 },
 "nbformat": 4,
 "nbformat_minor": 5
}
