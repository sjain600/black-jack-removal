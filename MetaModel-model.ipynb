{
 "cells": [
  {
   "cell_type": "code",
   "execution_count": 1,
   "id": "818058c1",
   "metadata": {
    "_cell_guid": "b1076dfc-b9ad-4769-8c92-a6c4dae69d19",
    "_uuid": "8f2839f25d086af736a60e9eeb907d3b93b6e0e5",
    "execution": {
     "iopub.execute_input": "2025-04-28T14:07:35.510531Z",
     "iopub.status.busy": "2025-04-28T14:07:35.510291Z",
     "iopub.status.idle": "2025-04-28T14:07:38.287025Z",
     "shell.execute_reply": "2025-04-28T14:07:38.286183Z"
    },
    "papermill": {
     "duration": 2.783006,
     "end_time": "2025-04-28T14:07:38.288382",
     "exception": false,
     "start_time": "2025-04-28T14:07:35.505376",
     "status": "completed"
    },
    "tags": []
   },
   "outputs": [
    {
     "name": "stdout",
     "output_type": "stream",
     "text": [
      "/kaggle/input/black-jack-smart-effect-of-removal-ml/sample_submission.csv\n",
      "/kaggle/input/black-jack-smart-effect-of-removal-ml/train.csv\n",
      "/kaggle/input/black-jack-smart-effect-of-removal-ml/test.csv\n"
     ]
    }
   ],
   "source": [
    "# This Python 3 environment comes with many helpful analytics libraries installed\n",
    "# It is defined by the kaggle/python Docker image: https://github.com/kaggle/docker-python\n",
    "# For example, here's several helpful packages to load\n",
    "\n",
    "import numpy as np # linear algebra\n",
    "import pandas as pd # data processing, CSV file I/O (e.g. pd.read_csv)\n",
    "import matplotlib.pyplot as plt\n",
    "import seaborn as sns\n",
    "\n",
    "import warnings\n",
    "\n",
    "# Ignore only the specific FutureWarning from pandas option\n",
    "warnings.filterwarnings(\n",
    "    action='ignore',\n",
    "    category=FutureWarning,\n",
    "    message=r\".*use_inf_as_na option is deprecated.*\"\n",
    ")\n",
    "\n",
    "# Setting matplotlib defaults\n",
    "plt.rc('figure', figsize=(8, 5), dpi=120)\n",
    "\n",
    "plt.rc('axes', labelweight='bold', labelsize='large',\n",
    "       titleweight='bold', titlesize=15, titlepad=10)\n",
    "\n",
    "# Input data files are available in the read-only \"../input/\" directory\n",
    "# For example, running this (by clicking run or pressing Shift+Enter) will list all files under the input directory\n",
    "\n",
    "import os\n",
    "for dirname, _, filenames in os.walk('/kaggle/input'):\n",
    "    for filename in filenames:\n",
    "        print(os.path.join(dirname, filename))\n",
    "\n",
    "# You can write up to 20GB to the current directory (/kaggle/working/) that gets preserved as output when you create a version using \"Save & Run All\" \n",
    "# You can also write temporary files to /kaggle/temp/, but they won't be saved outside of the current session"
   ]
  },
  {
   "cell_type": "code",
   "execution_count": 2,
   "id": "51967dfc",
   "metadata": {
    "execution": {
     "iopub.execute_input": "2025-04-28T14:07:38.296910Z",
     "iopub.status.busy": "2025-04-28T14:07:38.296624Z",
     "iopub.status.idle": "2025-04-28T14:07:38.431166Z",
     "shell.execute_reply": "2025-04-28T14:07:38.430641Z"
    },
    "papermill": {
     "duration": 0.140165,
     "end_time": "2025-04-28T14:07:38.432538",
     "exception": false,
     "start_time": "2025-04-28T14:07:38.292373",
     "status": "completed"
    },
    "tags": []
   },
   "outputs": [],
   "source": [
    "train = pd.read_csv('/kaggle/input/black-jack-smart-effect-of-removal-ml/train.csv', index_col='id')\n",
    "test = pd.read_csv('/kaggle/input/black-jack-smart-effect-of-removal-ml/test.csv', index_col='id')"
   ]
  },
  {
   "cell_type": "markdown",
   "id": "b36aabf4",
   "metadata": {
    "papermill": {
     "duration": 0.003303,
     "end_time": "2025-04-28T14:07:38.439686",
     "exception": false,
     "start_time": "2025-04-28T14:07:38.436383",
     "status": "completed"
    },
    "tags": []
   },
   "source": [
    "# Data Understanding"
   ]
  },
  {
   "cell_type": "code",
   "execution_count": 3,
   "id": "b65e99bc",
   "metadata": {
    "execution": {
     "iopub.execute_input": "2025-04-28T14:07:38.447696Z",
     "iopub.status.busy": "2025-04-28T14:07:38.447057Z",
     "iopub.status.idle": "2025-04-28T14:07:38.465196Z",
     "shell.execute_reply": "2025-04-28T14:07:38.464645Z"
    },
    "papermill": {
     "duration": 0.023048,
     "end_time": "2025-04-28T14:07:38.466168",
     "exception": false,
     "start_time": "2025-04-28T14:07:38.443120",
     "status": "completed"
    },
    "tags": []
   },
   "outputs": [
    {
     "data": {
      "text/html": [
       "<div>\n",
       "<style scoped>\n",
       "    .dataframe tbody tr th:only-of-type {\n",
       "        vertical-align: middle;\n",
       "    }\n",
       "\n",
       "    .dataframe tbody tr th {\n",
       "        vertical-align: top;\n",
       "    }\n",
       "\n",
       "    .dataframe thead th {\n",
       "        text-align: right;\n",
       "    }\n",
       "</style>\n",
       "<table border=\"1\" class=\"dataframe\">\n",
       "  <thead>\n",
       "    <tr style=\"text-align: right;\">\n",
       "      <th></th>\n",
       "      <th>1</th>\n",
       "      <th>2</th>\n",
       "      <th>3</th>\n",
       "      <th>4</th>\n",
       "      <th>5</th>\n",
       "      <th>6</th>\n",
       "      <th>7</th>\n",
       "      <th>8</th>\n",
       "      <th>9</th>\n",
       "      <th>10</th>\n",
       "      <th>ev</th>\n",
       "    </tr>\n",
       "    <tr>\n",
       "      <th>id</th>\n",
       "      <th></th>\n",
       "      <th></th>\n",
       "      <th></th>\n",
       "      <th></th>\n",
       "      <th></th>\n",
       "      <th></th>\n",
       "      <th></th>\n",
       "      <th></th>\n",
       "      <th></th>\n",
       "      <th></th>\n",
       "      <th></th>\n",
       "    </tr>\n",
       "  </thead>\n",
       "  <tbody>\n",
       "    <tr>\n",
       "      <th>0</th>\n",
       "      <td>12</td>\n",
       "      <td>6</td>\n",
       "      <td>16</td>\n",
       "      <td>11</td>\n",
       "      <td>14</td>\n",
       "      <td>14</td>\n",
       "      <td>15</td>\n",
       "      <td>20</td>\n",
       "      <td>11</td>\n",
       "      <td>61</td>\n",
       "      <td>-0.037038</td>\n",
       "    </tr>\n",
       "    <tr>\n",
       "      <th>1</th>\n",
       "      <td>7</td>\n",
       "      <td>6</td>\n",
       "      <td>7</td>\n",
       "      <td>6</td>\n",
       "      <td>10</td>\n",
       "      <td>10</td>\n",
       "      <td>9</td>\n",
       "      <td>10</td>\n",
       "      <td>5</td>\n",
       "      <td>30</td>\n",
       "      <td>-0.019283</td>\n",
       "    </tr>\n",
       "    <tr>\n",
       "      <th>2</th>\n",
       "      <td>9</td>\n",
       "      <td>9</td>\n",
       "      <td>5</td>\n",
       "      <td>8</td>\n",
       "      <td>9</td>\n",
       "      <td>8</td>\n",
       "      <td>7</td>\n",
       "      <td>7</td>\n",
       "      <td>7</td>\n",
       "      <td>31</td>\n",
       "      <td>-0.024862</td>\n",
       "    </tr>\n",
       "    <tr>\n",
       "      <th>3</th>\n",
       "      <td>13</td>\n",
       "      <td>16</td>\n",
       "      <td>12</td>\n",
       "      <td>10</td>\n",
       "      <td>12</td>\n",
       "      <td>14</td>\n",
       "      <td>12</td>\n",
       "      <td>12</td>\n",
       "      <td>11</td>\n",
       "      <td>48</td>\n",
       "      <td>-0.023246</td>\n",
       "    </tr>\n",
       "    <tr>\n",
       "      <th>4</th>\n",
       "      <td>7</td>\n",
       "      <td>8</td>\n",
       "      <td>8</td>\n",
       "      <td>9</td>\n",
       "      <td>11</td>\n",
       "      <td>10</td>\n",
       "      <td>5</td>\n",
       "      <td>12</td>\n",
       "      <td>8</td>\n",
       "      <td>42</td>\n",
       "      <td>-0.025703</td>\n",
       "    </tr>\n",
       "    <tr>\n",
       "      <th>5</th>\n",
       "      <td>7</td>\n",
       "      <td>7</td>\n",
       "      <td>5</td>\n",
       "      <td>8</td>\n",
       "      <td>6</td>\n",
       "      <td>8</td>\n",
       "      <td>9</td>\n",
       "      <td>9</td>\n",
       "      <td>9</td>\n",
       "      <td>32</td>\n",
       "      <td>-0.032025</td>\n",
       "    </tr>\n",
       "    <tr>\n",
       "      <th>6</th>\n",
       "      <td>2</td>\n",
       "      <td>2</td>\n",
       "      <td>2</td>\n",
       "      <td>1</td>\n",
       "      <td>4</td>\n",
       "      <td>2</td>\n",
       "      <td>4</td>\n",
       "      <td>6</td>\n",
       "      <td>2</td>\n",
       "      <td>15</td>\n",
       "      <td>-0.029387</td>\n",
       "    </tr>\n",
       "    <tr>\n",
       "      <th>7</th>\n",
       "      <td>2</td>\n",
       "      <td>2</td>\n",
       "      <td>0</td>\n",
       "      <td>0</td>\n",
       "      <td>4</td>\n",
       "      <td>1</td>\n",
       "      <td>1</td>\n",
       "      <td>2</td>\n",
       "      <td>2</td>\n",
       "      <td>6</td>\n",
       "      <td>-0.024910</td>\n",
       "    </tr>\n",
       "    <tr>\n",
       "      <th>8</th>\n",
       "      <td>18</td>\n",
       "      <td>13</td>\n",
       "      <td>16</td>\n",
       "      <td>15</td>\n",
       "      <td>14</td>\n",
       "      <td>17</td>\n",
       "      <td>17</td>\n",
       "      <td>14</td>\n",
       "      <td>16</td>\n",
       "      <td>60</td>\n",
       "      <td>-0.030389</td>\n",
       "    </tr>\n",
       "    <tr>\n",
       "      <th>9</th>\n",
       "      <td>14</td>\n",
       "      <td>13</td>\n",
       "      <td>17</td>\n",
       "      <td>11</td>\n",
       "      <td>11</td>\n",
       "      <td>14</td>\n",
       "      <td>14</td>\n",
       "      <td>18</td>\n",
       "      <td>14</td>\n",
       "      <td>54</td>\n",
       "      <td>-0.035126</td>\n",
       "    </tr>\n",
       "  </tbody>\n",
       "</table>\n",
       "</div>"
      ],
      "text/plain": [
       "     1   2   3   4   5   6   7   8   9  10        ev\n",
       "id                                                  \n",
       "0   12   6  16  11  14  14  15  20  11  61 -0.037038\n",
       "1    7   6   7   6  10  10   9  10   5  30 -0.019283\n",
       "2    9   9   5   8   9   8   7   7   7  31 -0.024862\n",
       "3   13  16  12  10  12  14  12  12  11  48 -0.023246\n",
       "4    7   8   8   9  11  10   5  12   8  42 -0.025703\n",
       "5    7   7   5   8   6   8   9   9   9  32 -0.032025\n",
       "6    2   2   2   1   4   2   4   6   2  15 -0.029387\n",
       "7    2   2   0   0   4   1   1   2   2   6 -0.024910\n",
       "8   18  13  16  15  14  17  17  14  16  60 -0.030389\n",
       "9   14  13  17  11  11  14  14  18  14  54 -0.035126"
      ]
     },
     "execution_count": 3,
     "metadata": {},
     "output_type": "execute_result"
    }
   ],
   "source": [
    "train.head(10)"
   ]
  },
  {
   "cell_type": "code",
   "execution_count": 4,
   "id": "fb01201c",
   "metadata": {
    "execution": {
     "iopub.execute_input": "2025-04-28T14:07:38.474386Z",
     "iopub.status.busy": "2025-04-28T14:07:38.473912Z",
     "iopub.status.idle": "2025-04-28T14:07:38.477938Z",
     "shell.execute_reply": "2025-04-28T14:07:38.477342Z"
    },
    "papermill": {
     "duration": 0.009264,
     "end_time": "2025-04-28T14:07:38.479082",
     "exception": false,
     "start_time": "2025-04-28T14:07:38.469818",
     "status": "completed"
    },
    "tags": []
   },
   "outputs": [
    {
     "data": {
      "text/plain": [
       "(20500, 11)"
      ]
     },
     "execution_count": 4,
     "metadata": {},
     "output_type": "execute_result"
    }
   ],
   "source": [
    "train.shape"
   ]
  },
  {
   "cell_type": "code",
   "execution_count": 5,
   "id": "3633f47a",
   "metadata": {
    "execution": {
     "iopub.execute_input": "2025-04-28T14:07:38.490747Z",
     "iopub.status.busy": "2025-04-28T14:07:38.490077Z",
     "iopub.status.idle": "2025-04-28T14:07:38.495283Z",
     "shell.execute_reply": "2025-04-28T14:07:38.494647Z"
    },
    "papermill": {
     "duration": 0.013283,
     "end_time": "2025-04-28T14:07:38.496291",
     "exception": false,
     "start_time": "2025-04-28T14:07:38.483008",
     "status": "completed"
    },
    "tags": []
   },
   "outputs": [
    {
     "data": {
      "text/plain": [
       "(8655, 10)"
      ]
     },
     "execution_count": 5,
     "metadata": {},
     "output_type": "execute_result"
    }
   ],
   "source": [
    "test.shape"
   ]
  },
  {
   "cell_type": "code",
   "execution_count": 6,
   "id": "82b0fdbc",
   "metadata": {
    "execution": {
     "iopub.execute_input": "2025-04-28T14:07:38.506030Z",
     "iopub.status.busy": "2025-04-28T14:07:38.505839Z",
     "iopub.status.idle": "2025-04-28T14:07:38.513093Z",
     "shell.execute_reply": "2025-04-28T14:07:38.512309Z"
    },
    "papermill": {
     "duration": 0.012918,
     "end_time": "2025-04-28T14:07:38.514306",
     "exception": false,
     "start_time": "2025-04-28T14:07:38.501388",
     "status": "completed"
    },
    "tags": []
   },
   "outputs": [
    {
     "data": {
      "text/plain": [
       "1     0\n",
       "2     0\n",
       "3     0\n",
       "4     0\n",
       "5     0\n",
       "6     0\n",
       "7     0\n",
       "8     0\n",
       "9     0\n",
       "10    0\n",
       "ev    0\n",
       "dtype: int64"
      ]
     },
     "execution_count": 6,
     "metadata": {},
     "output_type": "execute_result"
    }
   ],
   "source": [
    "train.isnull().sum()"
   ]
  },
  {
   "cell_type": "code",
   "execution_count": 7,
   "id": "85de64a2",
   "metadata": {
    "execution": {
     "iopub.execute_input": "2025-04-28T14:07:38.528917Z",
     "iopub.status.busy": "2025-04-28T14:07:38.528532Z",
     "iopub.status.idle": "2025-04-28T14:07:38.533645Z",
     "shell.execute_reply": "2025-04-28T14:07:38.533127Z"
    },
    "papermill": {
     "duration": 0.013168,
     "end_time": "2025-04-28T14:07:38.534693",
     "exception": false,
     "start_time": "2025-04-28T14:07:38.521525",
     "status": "completed"
    },
    "tags": []
   },
   "outputs": [
    {
     "data": {
      "text/plain": [
       "1     0\n",
       "2     0\n",
       "3     0\n",
       "4     0\n",
       "5     0\n",
       "6     0\n",
       "7     0\n",
       "8     0\n",
       "9     0\n",
       "10    0\n",
       "dtype: int64"
      ]
     },
     "execution_count": 7,
     "metadata": {},
     "output_type": "execute_result"
    }
   ],
   "source": [
    "test.isnull().sum()"
   ]
  },
  {
   "cell_type": "code",
   "execution_count": 8,
   "id": "3a2209c1",
   "metadata": {
    "execution": {
     "iopub.execute_input": "2025-04-28T14:07:38.543400Z",
     "iopub.status.busy": "2025-04-28T14:07:38.543000Z",
     "iopub.status.idle": "2025-04-28T14:07:38.580790Z",
     "shell.execute_reply": "2025-04-28T14:07:38.580242Z"
    },
    "papermill": {
     "duration": 0.04319,
     "end_time": "2025-04-28T14:07:38.581789",
     "exception": false,
     "start_time": "2025-04-28T14:07:38.538599",
     "status": "completed"
    },
    "tags": []
   },
   "outputs": [
    {
     "data": {
      "text/html": [
       "<div>\n",
       "<style scoped>\n",
       "    .dataframe tbody tr th:only-of-type {\n",
       "        vertical-align: middle;\n",
       "    }\n",
       "\n",
       "    .dataframe tbody tr th {\n",
       "        vertical-align: top;\n",
       "    }\n",
       "\n",
       "    .dataframe thead th {\n",
       "        text-align: right;\n",
       "    }\n",
       "</style>\n",
       "<table border=\"1\" class=\"dataframe\">\n",
       "  <thead>\n",
       "    <tr style=\"text-align: right;\">\n",
       "      <th></th>\n",
       "      <th>1</th>\n",
       "      <th>2</th>\n",
       "      <th>3</th>\n",
       "      <th>4</th>\n",
       "      <th>5</th>\n",
       "      <th>6</th>\n",
       "      <th>7</th>\n",
       "      <th>8</th>\n",
       "      <th>9</th>\n",
       "      <th>10</th>\n",
       "      <th>ev</th>\n",
       "    </tr>\n",
       "  </thead>\n",
       "  <tbody>\n",
       "    <tr>\n",
       "      <th>count</th>\n",
       "      <td>20500.000000</td>\n",
       "      <td>20500.000000</td>\n",
       "      <td>20500.000000</td>\n",
       "      <td>20500.000000</td>\n",
       "      <td>20500.000000</td>\n",
       "      <td>20500.000000</td>\n",
       "      <td>20500.000000</td>\n",
       "      <td>20500.000000</td>\n",
       "      <td>20500.000000</td>\n",
       "      <td>20500.000000</td>\n",
       "      <td>20500.000000</td>\n",
       "    </tr>\n",
       "    <tr>\n",
       "      <th>mean</th>\n",
       "      <td>7.591756</td>\n",
       "      <td>7.601073</td>\n",
       "      <td>7.597951</td>\n",
       "      <td>7.577659</td>\n",
       "      <td>7.598439</td>\n",
       "      <td>7.592683</td>\n",
       "      <td>7.552049</td>\n",
       "      <td>7.568878</td>\n",
       "      <td>7.602439</td>\n",
       "      <td>30.334634</td>\n",
       "      <td>-0.023383</td>\n",
       "    </tr>\n",
       "    <tr>\n",
       "      <th>std</th>\n",
       "      <td>4.809277</td>\n",
       "      <td>4.771329</td>\n",
       "      <td>4.799255</td>\n",
       "      <td>4.764657</td>\n",
       "      <td>4.790892</td>\n",
       "      <td>4.796563</td>\n",
       "      <td>4.754059</td>\n",
       "      <td>4.773905</td>\n",
       "      <td>4.766625</td>\n",
       "      <td>17.658349</td>\n",
       "      <td>0.010041</td>\n",
       "    </tr>\n",
       "    <tr>\n",
       "      <th>min</th>\n",
       "      <td>0.000000</td>\n",
       "      <td>0.000000</td>\n",
       "      <td>0.000000</td>\n",
       "      <td>0.000000</td>\n",
       "      <td>0.000000</td>\n",
       "      <td>0.000000</td>\n",
       "      <td>0.000000</td>\n",
       "      <td>0.000000</td>\n",
       "      <td>0.000000</td>\n",
       "      <td>0.000000</td>\n",
       "      <td>-0.071232</td>\n",
       "    </tr>\n",
       "    <tr>\n",
       "      <th>25%</th>\n",
       "      <td>4.000000</td>\n",
       "      <td>4.000000</td>\n",
       "      <td>4.000000</td>\n",
       "      <td>4.000000</td>\n",
       "      <td>4.000000</td>\n",
       "      <td>4.000000</td>\n",
       "      <td>4.000000</td>\n",
       "      <td>4.000000</td>\n",
       "      <td>4.000000</td>\n",
       "      <td>15.000000</td>\n",
       "      <td>-0.029104</td>\n",
       "    </tr>\n",
       "    <tr>\n",
       "      <th>50%</th>\n",
       "      <td>7.000000</td>\n",
       "      <td>7.000000</td>\n",
       "      <td>7.000000</td>\n",
       "      <td>7.000000</td>\n",
       "      <td>7.000000</td>\n",
       "      <td>7.000000</td>\n",
       "      <td>7.000000</td>\n",
       "      <td>7.000000</td>\n",
       "      <td>7.000000</td>\n",
       "      <td>28.000000</td>\n",
       "      <td>-0.024109</td>\n",
       "    </tr>\n",
       "    <tr>\n",
       "      <th>75%</th>\n",
       "      <td>11.000000</td>\n",
       "      <td>11.000000</td>\n",
       "      <td>11.000000</td>\n",
       "      <td>11.000000</td>\n",
       "      <td>11.000000</td>\n",
       "      <td>11.000000</td>\n",
       "      <td>11.000000</td>\n",
       "      <td>11.000000</td>\n",
       "      <td>11.000000</td>\n",
       "      <td>44.000000</td>\n",
       "      <td>-0.018508</td>\n",
       "    </tr>\n",
       "    <tr>\n",
       "      <th>max</th>\n",
       "      <td>22.000000</td>\n",
       "      <td>22.000000</td>\n",
       "      <td>22.000000</td>\n",
       "      <td>21.000000</td>\n",
       "      <td>22.000000</td>\n",
       "      <td>22.000000</td>\n",
       "      <td>22.000000</td>\n",
       "      <td>22.000000</td>\n",
       "      <td>22.000000</td>\n",
       "      <td>74.000000</td>\n",
       "      <td>0.044198</td>\n",
       "    </tr>\n",
       "  </tbody>\n",
       "</table>\n",
       "</div>"
      ],
      "text/plain": [
       "                  1             2             3             4             5  \\\n",
       "count  20500.000000  20500.000000  20500.000000  20500.000000  20500.000000   \n",
       "mean       7.591756      7.601073      7.597951      7.577659      7.598439   \n",
       "std        4.809277      4.771329      4.799255      4.764657      4.790892   \n",
       "min        0.000000      0.000000      0.000000      0.000000      0.000000   \n",
       "25%        4.000000      4.000000      4.000000      4.000000      4.000000   \n",
       "50%        7.000000      7.000000      7.000000      7.000000      7.000000   \n",
       "75%       11.000000     11.000000     11.000000     11.000000     11.000000   \n",
       "max       22.000000     22.000000     22.000000     21.000000     22.000000   \n",
       "\n",
       "                  6             7             8             9            10  \\\n",
       "count  20500.000000  20500.000000  20500.000000  20500.000000  20500.000000   \n",
       "mean       7.592683      7.552049      7.568878      7.602439     30.334634   \n",
       "std        4.796563      4.754059      4.773905      4.766625     17.658349   \n",
       "min        0.000000      0.000000      0.000000      0.000000      0.000000   \n",
       "25%        4.000000      4.000000      4.000000      4.000000     15.000000   \n",
       "50%        7.000000      7.000000      7.000000      7.000000     28.000000   \n",
       "75%       11.000000     11.000000     11.000000     11.000000     44.000000   \n",
       "max       22.000000     22.000000     22.000000     22.000000     74.000000   \n",
       "\n",
       "                 ev  \n",
       "count  20500.000000  \n",
       "mean      -0.023383  \n",
       "std        0.010041  \n",
       "min       -0.071232  \n",
       "25%       -0.029104  \n",
       "50%       -0.024109  \n",
       "75%       -0.018508  \n",
       "max        0.044198  "
      ]
     },
     "execution_count": 8,
     "metadata": {},
     "output_type": "execute_result"
    }
   ],
   "source": [
    "train.describe()"
   ]
  },
  {
   "cell_type": "code",
   "execution_count": 9,
   "id": "95d85250",
   "metadata": {
    "execution": {
     "iopub.execute_input": "2025-04-28T14:07:38.590661Z",
     "iopub.status.busy": "2025-04-28T14:07:38.590287Z",
     "iopub.status.idle": "2025-04-28T14:07:38.614052Z",
     "shell.execute_reply": "2025-04-28T14:07:38.613503Z"
    },
    "papermill": {
     "duration": 0.029234,
     "end_time": "2025-04-28T14:07:38.615126",
     "exception": false,
     "start_time": "2025-04-28T14:07:38.585892",
     "status": "completed"
    },
    "tags": []
   },
   "outputs": [
    {
     "data": {
      "text/html": [
       "<div>\n",
       "<style scoped>\n",
       "    .dataframe tbody tr th:only-of-type {\n",
       "        vertical-align: middle;\n",
       "    }\n",
       "\n",
       "    .dataframe tbody tr th {\n",
       "        vertical-align: top;\n",
       "    }\n",
       "\n",
       "    .dataframe thead th {\n",
       "        text-align: right;\n",
       "    }\n",
       "</style>\n",
       "<table border=\"1\" class=\"dataframe\">\n",
       "  <thead>\n",
       "    <tr style=\"text-align: right;\">\n",
       "      <th></th>\n",
       "      <th>1</th>\n",
       "      <th>2</th>\n",
       "      <th>3</th>\n",
       "      <th>4</th>\n",
       "      <th>5</th>\n",
       "      <th>6</th>\n",
       "      <th>7</th>\n",
       "      <th>8</th>\n",
       "      <th>9</th>\n",
       "      <th>10</th>\n",
       "    </tr>\n",
       "  </thead>\n",
       "  <tbody>\n",
       "    <tr>\n",
       "      <th>count</th>\n",
       "      <td>8655.000000</td>\n",
       "      <td>8655.000000</td>\n",
       "      <td>8655.000000</td>\n",
       "      <td>8655.000000</td>\n",
       "      <td>8655.000000</td>\n",
       "      <td>8655.000000</td>\n",
       "      <td>8655.000000</td>\n",
       "      <td>8655.000000</td>\n",
       "      <td>8655.000000</td>\n",
       "      <td>8655.000000</td>\n",
       "    </tr>\n",
       "    <tr>\n",
       "      <th>mean</th>\n",
       "      <td>7.622415</td>\n",
       "      <td>7.614211</td>\n",
       "      <td>7.564298</td>\n",
       "      <td>7.553206</td>\n",
       "      <td>7.574466</td>\n",
       "      <td>7.541075</td>\n",
       "      <td>7.574003</td>\n",
       "      <td>7.549856</td>\n",
       "      <td>7.605893</td>\n",
       "      <td>30.395609</td>\n",
       "    </tr>\n",
       "    <tr>\n",
       "      <th>std</th>\n",
       "      <td>4.770199</td>\n",
       "      <td>4.773575</td>\n",
       "      <td>4.765060</td>\n",
       "      <td>4.773822</td>\n",
       "      <td>4.785457</td>\n",
       "      <td>4.737471</td>\n",
       "      <td>4.761329</td>\n",
       "      <td>4.762710</td>\n",
       "      <td>4.804795</td>\n",
       "      <td>17.683448</td>\n",
       "    </tr>\n",
       "    <tr>\n",
       "      <th>min</th>\n",
       "      <td>0.000000</td>\n",
       "      <td>0.000000</td>\n",
       "      <td>0.000000</td>\n",
       "      <td>0.000000</td>\n",
       "      <td>0.000000</td>\n",
       "      <td>0.000000</td>\n",
       "      <td>0.000000</td>\n",
       "      <td>0.000000</td>\n",
       "      <td>0.000000</td>\n",
       "      <td>0.000000</td>\n",
       "    </tr>\n",
       "    <tr>\n",
       "      <th>25%</th>\n",
       "      <td>4.000000</td>\n",
       "      <td>4.000000</td>\n",
       "      <td>4.000000</td>\n",
       "      <td>4.000000</td>\n",
       "      <td>4.000000</td>\n",
       "      <td>4.000000</td>\n",
       "      <td>4.000000</td>\n",
       "      <td>4.000000</td>\n",
       "      <td>4.000000</td>\n",
       "      <td>15.000000</td>\n",
       "    </tr>\n",
       "    <tr>\n",
       "      <th>50%</th>\n",
       "      <td>7.000000</td>\n",
       "      <td>7.000000</td>\n",
       "      <td>7.000000</td>\n",
       "      <td>7.000000</td>\n",
       "      <td>7.000000</td>\n",
       "      <td>7.000000</td>\n",
       "      <td>7.000000</td>\n",
       "      <td>7.000000</td>\n",
       "      <td>7.000000</td>\n",
       "      <td>28.000000</td>\n",
       "    </tr>\n",
       "    <tr>\n",
       "      <th>75%</th>\n",
       "      <td>11.000000</td>\n",
       "      <td>11.000000</td>\n",
       "      <td>11.000000</td>\n",
       "      <td>11.000000</td>\n",
       "      <td>11.000000</td>\n",
       "      <td>11.000000</td>\n",
       "      <td>11.000000</td>\n",
       "      <td>11.000000</td>\n",
       "      <td>11.000000</td>\n",
       "      <td>44.000000</td>\n",
       "    </tr>\n",
       "    <tr>\n",
       "      <th>max</th>\n",
       "      <td>22.000000</td>\n",
       "      <td>22.000000</td>\n",
       "      <td>22.000000</td>\n",
       "      <td>22.000000</td>\n",
       "      <td>23.000000</td>\n",
       "      <td>22.000000</td>\n",
       "      <td>21.000000</td>\n",
       "      <td>21.000000</td>\n",
       "      <td>23.000000</td>\n",
       "      <td>73.000000</td>\n",
       "    </tr>\n",
       "  </tbody>\n",
       "</table>\n",
       "</div>"
      ],
      "text/plain": [
       "                 1            2            3            4            5  \\\n",
       "count  8655.000000  8655.000000  8655.000000  8655.000000  8655.000000   \n",
       "mean      7.622415     7.614211     7.564298     7.553206     7.574466   \n",
       "std       4.770199     4.773575     4.765060     4.773822     4.785457   \n",
       "min       0.000000     0.000000     0.000000     0.000000     0.000000   \n",
       "25%       4.000000     4.000000     4.000000     4.000000     4.000000   \n",
       "50%       7.000000     7.000000     7.000000     7.000000     7.000000   \n",
       "75%      11.000000    11.000000    11.000000    11.000000    11.000000   \n",
       "max      22.000000    22.000000    22.000000    22.000000    23.000000   \n",
       "\n",
       "                 6            7            8            9           10  \n",
       "count  8655.000000  8655.000000  8655.000000  8655.000000  8655.000000  \n",
       "mean      7.541075     7.574003     7.549856     7.605893    30.395609  \n",
       "std       4.737471     4.761329     4.762710     4.804795    17.683448  \n",
       "min       0.000000     0.000000     0.000000     0.000000     0.000000  \n",
       "25%       4.000000     4.000000     4.000000     4.000000    15.000000  \n",
       "50%       7.000000     7.000000     7.000000     7.000000    28.000000  \n",
       "75%      11.000000    11.000000    11.000000    11.000000    44.000000  \n",
       "max      22.000000    21.000000    21.000000    23.000000    73.000000  "
      ]
     },
     "execution_count": 9,
     "metadata": {},
     "output_type": "execute_result"
    }
   ],
   "source": [
    "test.describe()"
   ]
  },
  {
   "cell_type": "code",
   "execution_count": 10,
   "id": "5d54a2cb",
   "metadata": {
    "execution": {
     "iopub.execute_input": "2025-04-28T14:07:38.625382Z",
     "iopub.status.busy": "2025-04-28T14:07:38.625021Z",
     "iopub.status.idle": "2025-04-28T14:07:39.006269Z",
     "shell.execute_reply": "2025-04-28T14:07:39.005504Z"
    },
    "papermill": {
     "duration": 0.387749,
     "end_time": "2025-04-28T14:07:39.007532",
     "exception": false,
     "start_time": "2025-04-28T14:07:38.619783",
     "status": "completed"
    },
    "tags": []
   },
   "outputs": [
    {
     "data": {
      "image/png": "[encoded data removed]",
      "text/plain": [
       "<Figure size 960x600 with 1 Axes>"
      ]
     },
     "metadata": {},
     "output_type": "display_data"
    }
   ],
   "source": [
    "sns.histplot(x='ev', data=train, bins=20, kde=True, color='orange')\n",
    "plt.show()"
   ]
  },
  {
   "cell_type": "code",
   "execution_count": 11,
   "id": "7ccdf4ed",
   "metadata": {
    "execution": {
     "iopub.execute_input": "2025-04-28T14:07:39.018747Z",
     "iopub.status.busy": "2025-04-28T14:07:39.018108Z",
     "iopub.status.idle": "2025-04-28T14:07:39.461300Z",
     "shell.execute_reply": "2025-04-28T14:07:39.460646Z"
    },
    "papermill": {
     "duration": 0.450253,
     "end_time": "2025-04-28T14:07:39.463028",
     "exception": false,
     "start_time": "2025-04-28T14:07:39.012775",
     "status": "completed"
    },
    "tags": []
   },
   "outputs": [
    {
     "data": {
      "text/plain": [
       "<Axes: >"
      ]
     },
     "execution_count": 11,
     "metadata": {},
     "output_type": "execute_result"
    },
    {
     "data": {
      "image/png": "[encoded data removed]",
      "text/plain": [
       "<Figure size 960x600 with 2 Axes>"
      ]
     },
     "metadata": {},
     "output_type": "display_data"
    }
   ],
   "source": [
    "sns.heatmap(train.corr(), annot=True, cmap='viridis', fmt='.2f', linewidths=0.5)"
   ]
  },
  {
   "cell_type": "code",
   "execution_count": 12,
   "id": "1ec2bc7e",
   "metadata": {
    "execution": {
     "iopub.execute_input": "2025-04-28T14:07:39.476109Z",
     "iopub.status.busy": "2025-04-28T14:07:39.475713Z",
     "iopub.status.idle": "2025-04-28T14:07:39.479894Z",
     "shell.execute_reply": "2025-04-28T14:07:39.479379Z"
    },
    "papermill": {
     "duration": 0.011846,
     "end_time": "2025-04-28T14:07:39.480910",
     "exception": false,
     "start_time": "2025-04-28T14:07:39.469064",
     "status": "completed"
    },
    "tags": []
   },
   "outputs": [
    {
     "data": {
      "text/plain": [
       "Index(['1', '2', '3', '4', '5', '6', '7', '8', '9', '10', 'ev'], dtype='object')"
      ]
     },
     "execution_count": 12,
     "metadata": {},
     "output_type": "execute_result"
    }
   ],
   "source": [
    "train.columns"
   ]
  },
  {
   "cell_type": "markdown",
   "id": "4e6609a7",
   "metadata": {
    "papermill": {
     "duration": 0.005522,
     "end_time": "2025-04-28T14:07:39.492581",
     "exception": false,
     "start_time": "2025-04-28T14:07:39.487059",
     "status": "completed"
    },
    "tags": []
   },
   "source": [
    "# Feature engineering"
   ]
  },
  {
   "cell_type": "code",
   "execution_count": 13,
   "id": "f74b3575",
   "metadata": {
    "execution": {
     "iopub.execute_input": "2025-04-28T14:07:39.504866Z",
     "iopub.status.busy": "2025-04-28T14:07:39.504693Z",
     "iopub.status.idle": "2025-04-28T14:07:39.524572Z",
     "shell.execute_reply": "2025-04-28T14:07:39.524101Z"
    },
    "papermill": {
     "duration": 0.027411,
     "end_time": "2025-04-28T14:07:39.525623",
     "exception": false,
     "start_time": "2025-04-28T14:07:39.498212",
     "status": "completed"
    },
    "tags": []
   },
   "outputs": [],
   "source": [
    "train['removed_low'] = train[[str(i) for i in range(2, 7)]].sum(axis=1)\n",
    "test['removed_low'] = test[[str(i) for i in range(2, 7)]].sum(axis=1)\n",
    "\n",
    "train['removed_mid'] = train[[str(i) for i in range(7, 10)]].sum(axis=1)\n",
    "test['removed_mid'] = test[[str(i) for i in range(7, 10)]].sum(axis=1)\n",
    "\n",
    "train['total_removed'] = train[[str(i) for i in range(1, 11)]].sum(axis=1)\n",
    "test['total_removed'] = test[[str(i) for i in range(1, 11)]].sum(axis=1)"
   ]
  },
  {
   "cell_type": "code",
   "execution_count": 14,
   "id": "add90071",
   "metadata": {
    "execution": {
     "iopub.execute_input": "2025-04-28T14:07:39.537748Z",
     "iopub.status.busy": "2025-04-28T14:07:39.537318Z",
     "iopub.status.idle": "2025-04-28T14:07:39.541803Z",
     "shell.execute_reply": "2025-04-28T14:07:39.541306Z"
    },
    "papermill": {
     "duration": 0.011522,
     "end_time": "2025-04-28T14:07:39.542765",
     "exception": false,
     "start_time": "2025-04-28T14:07:39.531243",
     "status": "completed"
    },
    "tags": []
   },
   "outputs": [],
   "source": [
    "train['removed_aces'] = train['1']\n",
    "train['removed_tens'] = train['10']\n",
    "\n",
    "test['removed_aces'] = test['1']\n",
    "test['removed_tens'] = test['10']"
   ]
  },
  {
   "cell_type": "code",
   "execution_count": 15,
   "id": "7ea73efd",
   "metadata": {
    "execution": {
     "iopub.execute_input": "2025-04-28T14:07:39.555033Z",
     "iopub.status.busy": "2025-04-28T14:07:39.554651Z",
     "iopub.status.idle": "2025-04-28T14:07:39.566636Z",
     "shell.execute_reply": "2025-04-28T14:07:39.566177Z"
    },
    "papermill": {
     "duration": 0.019234,
     "end_time": "2025-04-28T14:07:39.567793",
     "exception": false,
     "start_time": "2025-04-28T14:07:39.548559",
     "status": "completed"
    },
    "tags": []
   },
   "outputs": [],
   "source": [
    "train['aces_tens_ratios'] = train['removed_aces'] / (train['removed_tens'] + 1e-6)\n",
    "test['aces_tens_ratios'] = test['removed_aces'] / (test['removed_tens'] + 1e-6)\n",
    "\n",
    "train['low_mid_ratios'] = train['removed_low'] / (train['removed_mid'] + 1e-6)\n",
    "test['low_mid_ratios'] = test['removed_low'] / (test['removed_mid'] + 1e-6)\n",
    "\n",
    "train['aces_tens_interact'] = train['removed_aces'] * train['removed_tens'] \n",
    "test['aces_tens_interact'] = test['removed_aces'] * test['removed_tens'] \n",
    "\n"
   ]
  },
  {
   "cell_type": "code",
   "execution_count": 16,
   "id": "47a9d890",
   "metadata": {
    "execution": {
     "iopub.execute_input": "2025-04-28T14:07:39.579816Z",
     "iopub.status.busy": "2025-04-28T14:07:39.579629Z",
     "iopub.status.idle": "2025-04-28T14:07:39.585095Z",
     "shell.execute_reply": "2025-04-28T14:07:39.584606Z"
    },
    "papermill": {
     "duration": 0.012595,
     "end_time": "2025-04-28T14:07:39.586032",
     "exception": false,
     "start_time": "2025-04-28T14:07:39.573437",
     "status": "completed"
    },
    "tags": []
   },
   "outputs": [
    {
     "data": {
      "text/plain": [
       "1                     0\n",
       "2                     0\n",
       "3                     0\n",
       "4                     0\n",
       "5                     0\n",
       "6                     0\n",
       "7                     0\n",
       "8                     0\n",
       "9                     0\n",
       "10                    0\n",
       "removed_low           0\n",
       "removed_mid           0\n",
       "total_removed         0\n",
       "removed_aces          0\n",
       "removed_tens          0\n",
       "aces_tens_ratios      0\n",
       "low_mid_ratios        0\n",
       "aces_tens_interact    0\n",
       "dtype: int64"
      ]
     },
     "execution_count": 16,
     "metadata": {},
     "output_type": "execute_result"
    }
   ],
   "source": [
    "test.isnull().sum()"
   ]
  },
  {
   "cell_type": "code",
   "execution_count": 17,
   "id": "8d54ab23",
   "metadata": {
    "execution": {
     "iopub.execute_input": "2025-04-28T14:07:39.598496Z",
     "iopub.status.busy": "2025-04-28T14:07:39.598277Z",
     "iopub.status.idle": "2025-04-28T14:07:43.963595Z",
     "shell.execute_reply": "2025-04-28T14:07:43.962973Z"
    },
    "papermill": {
     "duration": 4.373184,
     "end_time": "2025-04-28T14:07:43.965055",
     "exception": false,
     "start_time": "2025-04-28T14:07:39.591871",
     "status": "completed"
    },
    "tags": []
   },
   "outputs": [],
   "source": [
    "from sklearn.model_selection import KFold\n",
    "from lightgbm import LGBMRegressor\n",
    "from sklearn.metrics import mean_squared_error\n",
    "\n",
    "X = train.copy()\n",
    "y = X.pop('ev')\n",
    "X_test = test.copy()\n",
    "\n",
    "oof_lgm = np.zeros(len(y))\n",
    "oof_xgb = np.zeros(len(y))\n",
    "oof_cat = np.zeros(len(y))\n",
    "test_preds_lgm = np.zeros(len(X_test))\n",
    "test_preds_xgb = np.zeros(len(X_test))\n",
    "test_preds_cat = np.zeros(len(X_test))"
   ]
  },
  {
   "cell_type": "markdown",
   "id": "2141c031",
   "metadata": {
    "papermill": {
     "duration": 0.006308,
     "end_time": "2025-04-28T14:07:43.977703",
     "exception": false,
     "start_time": "2025-04-28T14:07:43.971395",
     "status": "completed"
    },
    "tags": []
   },
   "source": [
    "## OOF Predictions"
   ]
  },
  {
   "cell_type": "code",
   "execution_count": 18,
   "id": "00bb3119",
   "metadata": {
    "execution": {
     "iopub.execute_input": "2025-04-28T14:07:43.991577Z",
     "iopub.status.busy": "2025-04-28T14:07:43.990752Z",
     "iopub.status.idle": "2025-04-28T14:09:10.035034Z",
     "shell.execute_reply": "2025-04-28T14:09:10.034350Z"
    },
    "papermill": {
     "duration": 86.052288,
     "end_time": "2025-04-28T14:09:10.036369",
     "exception": false,
     "start_time": "2025-04-28T14:07:43.984081",
     "status": "completed"
    },
    "tags": []
   },
   "outputs": [
    {
     "name": "stdout",
     "output_type": "stream",
     "text": [
      "Fold 1 RMSE: 0.000870240\n",
      "Fold 2 RMSE: 0.000807698\n",
      "Fold 3 RMSE: 0.000828345\n",
      "Fold 4 RMSE: 0.000827182\n",
      "Fold 5 RMSE: 0.000976903\n",
      "Fold 6 RMSE: 0.000843531\n",
      "Fold 7 RMSE: 0.000840266\n",
      "Fold 8 RMSE: 0.000839445\n",
      "Fold 9 RMSE: 0.000806517\n",
      "Fold 10 RMSE: 0.000843658\n"
     ]
    }
   ],
   "source": [
    "n_folds=10\n",
    "kf = KFold(n_splits=n_folds, shuffle=True, random_state=34)\n",
    "\n",
    "for fold, (train_index, valid_index) in enumerate(kf.split(X, y)):\n",
    "    X_train, X_valid = X.iloc[train_index], X.iloc[valid_index]\n",
    "    y_train, y_valid = y.iloc[train_index], y.iloc[valid_index]\n",
    "\n",
    "    lgm = LGBMRegressor(n_estimators=10000, learning_rate=0.065, max_depth=4, subsample=0.8, colsample_bynode=0.8, reg_lambda=5.514608, verbose=-1, \n",
    "    random_state=34, early_stopping_rounds=50, eval_metric='mse').fit(X_train, y_train, eval_set=[(X_valid, y_valid)])\n",
    "\n",
    "    lgm_pred = lgm.predict(X_valid)\n",
    "    oof_lgm[valid_index] = lgm_pred\n",
    "\n",
    "    fold_rmse = np.sqrt(mean_squared_error(y_valid, lgm_pred))\n",
    "    print(f\"Fold {fold + 1} RMSE: {fold_rmse:.9f}\")\n",
    "    \n",
    "    test_preds_lgm += lgm.predict(X_test) / n_folds"
   ]
  },
  {
   "cell_type": "code",
   "execution_count": 19,
   "id": "5e29f703",
   "metadata": {
    "execution": {
     "iopub.execute_input": "2025-04-28T14:09:10.050980Z",
     "iopub.status.busy": "2025-04-28T14:09:10.050744Z",
     "iopub.status.idle": "2025-04-28T14:10:01.598875Z",
     "shell.execute_reply": "2025-04-28T14:10:01.598182Z"
    },
    "papermill": {
     "duration": 51.556933,
     "end_time": "2025-04-28T14:10:01.600224",
     "exception": false,
     "start_time": "2025-04-28T14:09:10.043291",
     "status": "completed"
    },
    "tags": []
   },
   "outputs": [
    {
     "name": "stdout",
     "output_type": "stream",
     "text": [
      "Fold 1 RMSE: 0.000883976\n",
      "Fold 2 RMSE: 0.000863408\n",
      "Fold 3 RMSE: 0.000865021\n",
      "Fold 4 RMSE: 0.000890105\n",
      "Fold 5 RMSE: 0.000983093\n",
      "Fold 6 RMSE: 0.000842546\n",
      "Fold 7 RMSE: 0.000848094\n",
      "Fold 8 RMSE: 0.000885164\n",
      "Fold 9 RMSE: 0.000864436\n",
      "Fold 10 RMSE: 0.000936210\n"
     ]
    }
   ],
   "source": [
    "from xgboost import XGBRegressor\n",
    "\n",
    "for fold, (train_index, valid_index) in enumerate(kf.split(X, y)):\n",
    "    X_train, X_valid = X.iloc[train_index], X.iloc[valid_index]\n",
    "    y_train, y_valid = y.iloc[train_index], y.iloc[valid_index]\n",
    "\n",
    "    xgb = XGBRegressor(n_estimators=10000, learning_rate=0.08149, max_depth=3, reg_lambda=0.62318, subsample=0.54478, colsample_bynode=0.9759,\n",
    "    random_state=34, early_stopping_rounds=50).fit(X_train, y_train, eval_set=[(X_valid, y_valid)], verbose=0)\n",
    "\n",
    "    xgb_pred = xgb.predict(X_valid)\n",
    "    oof_xgb[valid_index] = xgb_pred\n",
    "\n",
    "    fold_rmse = np.sqrt(mean_squared_error(y_valid, xgb_pred))\n",
    "    print(f\"Fold {fold + 1} RMSE: {fold_rmse:.9f}\")\n",
    "    \n",
    "    test_preds_xgb += xgb.predict(X_test) / n_folds"
   ]
  },
  {
   "cell_type": "code",
   "execution_count": 20,
   "id": "d600b539",
   "metadata": {
    "execution": {
     "iopub.execute_input": "2025-04-28T14:10:01.617357Z",
     "iopub.status.busy": "2025-04-28T14:10:01.617145Z",
     "iopub.status.idle": "2025-04-28T14:11:34.732852Z",
     "shell.execute_reply": "2025-04-28T14:11:34.731982Z"
    },
    "papermill": {
     "duration": 93.1251,
     "end_time": "2025-04-28T14:11:34.734101",
     "exception": false,
     "start_time": "2025-04-28T14:10:01.609001",
     "status": "completed"
    },
    "tags": []
   },
   "outputs": [
    {
     "name": "stdout",
     "output_type": "stream",
     "text": [
      "Fold 1 RMSE: 0.000744293\n",
      "Fold 2 RMSE: 0.000668747\n",
      "Fold 3 RMSE: 0.000718327\n",
      "Fold 4 RMSE: 0.000683181\n",
      "Fold 5 RMSE: 0.000834213\n",
      "Fold 6 RMSE: 0.000709104\n",
      "Fold 7 RMSE: 0.000662768\n",
      "Fold 8 RMSE: 0.000674970\n",
      "Fold 9 RMSE: 0.000644319\n",
      "Fold 10 RMSE: 0.000718094\n"
     ]
    }
   ],
   "source": [
    "from catboost import CatBoostRegressor\n",
    "\n",
    "for fold, (train_index, valid_index) in enumerate(kf.split(X, y)):\n",
    "    X_train, X_valid = X.iloc[train_index], X.iloc[valid_index]\n",
    "    y_train, y_valid = y.iloc[train_index], y.iloc[valid_index]\n",
    "\n",
    "    cat = CatBoostRegressor(iterations=2000, learning_rate=0.05, depth=8, l2_leaf_reg=2, subsample=0.85,\n",
    "    random_state=34, early_stopping_rounds=50).fit(X_train, y_train, eval_set=[(X_valid, y_valid)], verbose=0)\n",
    "\n",
    "    cat_pred = cat.predict(X_valid)\n",
    "    oof_cat[valid_index] = cat_pred\n",
    "\n",
    "    fold_rmse = np.sqrt(mean_squared_error(y_valid, cat_pred))\n",
    "    print(f\"Fold {fold + 1} RMSE: {fold_rmse:.9f}\")\n",
    "    \n",
    "    test_preds_cat += cat.predict(X_test) / n_folds"
   ]
  },
  {
   "cell_type": "markdown",
   "id": "1f2ff74b",
   "metadata": {
    "papermill": {
     "duration": 0.007083,
     "end_time": "2025-04-28T14:11:34.748931",
     "exception": false,
     "start_time": "2025-04-28T14:11:34.741848",
     "status": "completed"
    },
    "tags": []
   },
   "source": [
    "# Meta Model using Bayesian Ridge"
   ]
  },
  {
   "cell_type": "code",
   "execution_count": 21,
   "id": "a47758fb",
   "metadata": {
    "execution": {
     "iopub.execute_input": "2025-04-28T14:11:34.763928Z",
     "iopub.status.busy": "2025-04-28T14:11:34.763653Z",
     "iopub.status.idle": "2025-04-28T14:11:34.855387Z",
     "shell.execute_reply": "2025-04-28T14:11:34.854834Z"
    },
    "papermill": {
     "duration": 0.100692,
     "end_time": "2025-04-28T14:11:34.856654",
     "exception": false,
     "start_time": "2025-04-28T14:11:34.755962",
     "status": "completed"
    },
    "tags": []
   },
   "outputs": [],
   "source": [
    "from sklearn.linear_model import BayesianRidge\n",
    "\n",
    "meta_train = np.column_stack((oof_xgb, oof_lgm, oof_cat))\n",
    "meta_test = np.column_stack((test_preds_xgb, test_preds_lgm, test_preds_cat))\n",
    "\n",
    "meta_model = BayesianRidge().fit(meta_train, y)\n",
    "\n",
    "final_preds = meta_model.predict(meta_test)\n"
   ]
  },
  {
   "cell_type": "code",
   "execution_count": 22,
   "id": "c7279d31",
   "metadata": {
    "execution": {
     "iopub.execute_input": "2025-04-28T14:11:34.874400Z",
     "iopub.status.busy": "2025-04-28T14:11:34.874195Z",
     "iopub.status.idle": "2025-04-28T14:11:34.912242Z",
     "shell.execute_reply": "2025-04-28T14:11:34.911621Z"
    },
    "papermill": {
     "duration": 0.047229,
     "end_time": "2025-04-28T14:11:34.913221",
     "exception": false,
     "start_time": "2025-04-28T14:11:34.865992",
     "status": "completed"
    },
    "tags": []
   },
   "outputs": [
    {
     "name": "stdout",
     "output_type": "stream",
     "text": [
      "Your submission was successfully saved!\n"
     ]
    }
   ],
   "source": [
    "sub = pd.read_csv('/kaggle/input/black-jack-smart-effect-of-removal-ml/sample_submission.csv')\n",
    "sub['ev'] = final_preds\n",
    "sub.to_csv('submission.csv', index=False)\n",
    "print(\"Your submission was successfully saved!\")"
   ]
  }
 ],
 "metadata": {
  "kaggle": {
   "accelerator": "nvidiaTeslaT4",
   "dataSources": [
    {
     "databundleVersionId": 11195319,
     "sourceId": 94020,
     "sourceType": "competition"
    }
   ],
   "dockerImageVersionId": 31012,
   "isGpuEnabled": true,
   "isInternetEnabled": true,
   "language": "python",
   "sourceType": "notebook"
  },
  "kernelspec": {
   "display_name": "Python 3",
   "language": "python",
   "name": "python3"
  },
  "language_info": {
   "codemirror_mode": {
    "name": "ipython",
    "version": 3
   },
   "file_extension": ".py",
   "mimetype": "text/x-python",
   "name": "python",
   "nbconvert_exporter": "python",
   "pygments_lexer": "ipython3",
   "version": "3.11.11"
  },
  "papermill": {
   "default_parameters": {},
   "duration": 244.264943,
   "end_time": "2025-04-28T14:11:35.638936",
   "environment_variables": {},
   "exception": null,
   "input_path": "__notebook__.ipynb",
   "output_path": "__notebook__.ipynb",
   "parameters": {},
   "start_time": "2025-04-28T14:07:31.373993",
   "version": "2.6.0"
  }
 },
 "nbformat": 4,
 "nbformat_minor": 5
}
