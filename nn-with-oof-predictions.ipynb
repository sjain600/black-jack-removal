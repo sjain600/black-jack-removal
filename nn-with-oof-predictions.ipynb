{
 "cells": [
  {
   "cell_type": "code",
   "execution_count": 1,
   "id": "9b37a297",
   "metadata": {
    "_cell_guid": "b1076dfc-b9ad-4769-8c92-a6c4dae69d19",
    "_uuid": "8f2839f25d086af736a60e9eeb907d3b93b6e0e5",
    "execution": {
     "iopub.execute_input": "2025-04-30T07:59:11.028563Z",
     "iopub.status.busy": "2025-04-30T07:59:11.028218Z",
     "iopub.status.idle": "2025-04-30T07:59:15.328040Z",
     "shell.execute_reply": "2025-04-30T07:59:15.326876Z"
    },
    "papermill": {
     "duration": 4.30716,
     "end_time": "2025-04-30T07:59:15.329659",
     "exception": false,
     "start_time": "2025-04-30T07:59:11.022499",
     "status": "completed"
    },
    "tags": []
   },
   "outputs": [
    {
     "name": "stdout",
     "output_type": "stream",
     "text": [
      "/kaggle/input/black-jack-smart-effect-of-removal-ml/sample_submission.csv\n",
      "/kaggle/input/black-jack-smart-effect-of-removal-ml/train.csv\n",
      "/kaggle/input/black-jack-smart-effect-of-removal-ml/test.csv\n"
     ]
    }
   ],
   "source": [
    "# This Python 3 environment comes with many helpful analytics libraries installed\n",
    "# It is defined by the kaggle/python Docker image: https://github.com/kaggle/docker-python\n",
    "# For example, here's several helpful packages to load\n",
    "\n",
    "import numpy as np # linear algebra\n",
    "import pandas as pd # data processing, CSV file I/O (e.g. pd.read_csv)\n",
    "import matplotlib.pyplot as plt\n",
    "import seaborn as sns\n",
    "\n",
    "import warnings\n",
    "\n",
    "warnings.simplefilter('ignore')\n",
    "# Ignore only the specific FutureWarning from pandas option\n",
    "warnings.filterwarnings(\n",
    "    action='ignore',\n",
    "    category=FutureWarning,\n",
    "    message=r\".*use_inf_as_na option is deprecated.*\"\n",
    ")\n",
    "\n",
    "# Setting matplotlib defaults\n",
    "plt.rc('figure', figsize=(8, 5), dpi=120)\n",
    "\n",
    "plt.rc('axes', labelweight='bold', labelsize='large',\n",
    "       titleweight='bold', titlesize=15, titlepad=10)\n",
    "\n",
    "# Input data files are available in the read-only \"../input/\" directory\n",
    "# For example, running this (by clicking run or pressing Shift+Enter) will list all files under the input directory\n",
    "\n",
    "import os\n",
    "for dirname, _, filenames in os.walk('/kaggle/input'):\n",
    "    for filename in filenames:\n",
    "        print(os.path.join(dirname, filename))\n",
    "\n",
    "# You can write up to 20GB to the current directory (/kaggle/working/) that gets preserved as output when you create a version using \"Save & Run All\" \n",
    "# You can also write temporary files to /kaggle/temp/, but they won't be saved outside of the current session"
   ]
  },
  {
   "cell_type": "code",
   "execution_count": 2,
   "id": "79ce4a77",
   "metadata": {
    "execution": {
     "iopub.execute_input": "2025-04-30T07:59:15.339678Z",
     "iopub.status.busy": "2025-04-30T07:59:15.338770Z",
     "iopub.status.idle": "2025-04-30T07:59:15.437085Z",
     "shell.execute_reply": "2025-04-30T07:59:15.435969Z"
    },
    "papermill": {
     "duration": 0.105038,
     "end_time": "2025-04-30T07:59:15.439029",
     "exception": false,
     "start_time": "2025-04-30T07:59:15.333991",
     "status": "completed"
    },
    "tags": []
   },
   "outputs": [],
   "source": [
    "train = pd.read_csv('/kaggle/input/black-jack-smart-effect-of-removal-ml/train.csv', index_col='id')\n",
    "test = pd.read_csv('/kaggle/input/black-jack-smart-effect-of-removal-ml/test.csv', index_col='id')"
   ]
  },
  {
   "cell_type": "markdown",
   "id": "ec0074c6",
   "metadata": {
    "papermill": {
     "duration": 0.00331,
     "end_time": "2025-04-30T07:59:15.446363",
     "exception": false,
     "start_time": "2025-04-30T07:59:15.443053",
     "status": "completed"
    },
    "tags": []
   },
   "source": [
    "# Data Understanding"
   ]
  },
  {
   "cell_type": "code",
   "execution_count": 3,
   "id": "dab1a7ea",
   "metadata": {
    "execution": {
     "iopub.execute_input": "2025-04-30T07:59:15.454832Z",
     "iopub.status.busy": "2025-04-30T07:59:15.454450Z",
     "iopub.status.idle": "2025-04-30T07:59:15.485121Z",
     "shell.execute_reply": "2025-04-30T07:59:15.484060Z"
    },
    "papermill": {
     "duration": 0.036871,
     "end_time": "2025-04-30T07:59:15.486842",
     "exception": false,
     "start_time": "2025-04-30T07:59:15.449971",
     "status": "completed"
    },
    "tags": []
   },
   "outputs": [
    {
     "data": {
      "text/html": [
       "<div>\n",
       "<style scoped>\n",
       "    .dataframe tbody tr th:only-of-type {\n",
       "        vertical-align: middle;\n",
       "    }\n",
       "\n",
       "    .dataframe tbody tr th {\n",
       "        vertical-align: top;\n",
       "    }\n",
       "\n",
       "    .dataframe thead th {\n",
       "        text-align: right;\n",
       "    }\n",
       "</style>\n",
       "<table border=\"1\" class=\"dataframe\">\n",
       "  <thead>\n",
       "    <tr style=\"text-align: right;\">\n",
       "      <th></th>\n",
       "      <th>1</th>\n",
       "      <th>2</th>\n",
       "      <th>3</th>\n",
       "      <th>4</th>\n",
       "      <th>5</th>\n",
       "      <th>6</th>\n",
       "      <th>7</th>\n",
       "      <th>8</th>\n",
       "      <th>9</th>\n",
       "      <th>10</th>\n",
       "      <th>ev</th>\n",
       "    </tr>\n",
       "    <tr>\n",
       "      <th>id</th>\n",
       "      <th></th>\n",
       "      <th></th>\n",
       "      <th></th>\n",
       "      <th></th>\n",
       "      <th></th>\n",
       "      <th></th>\n",
       "      <th></th>\n",
       "      <th></th>\n",
       "      <th></th>\n",
       "      <th></th>\n",
       "      <th></th>\n",
       "    </tr>\n",
       "  </thead>\n",
       "  <tbody>\n",
       "    <tr>\n",
       "      <th>208</th>\n",
       "      <td>14</td>\n",
       "      <td>12</td>\n",
       "      <td>6</td>\n",
       "      <td>11</td>\n",
       "      <td>8</td>\n",
       "      <td>13</td>\n",
       "      <td>14</td>\n",
       "      <td>13</td>\n",
       "      <td>11</td>\n",
       "      <td>38</td>\n",
       "      <td>-0.029709</td>\n",
       "    </tr>\n",
       "    <tr>\n",
       "      <th>6463</th>\n",
       "      <td>17</td>\n",
       "      <td>20</td>\n",
       "      <td>17</td>\n",
       "      <td>12</td>\n",
       "      <td>16</td>\n",
       "      <td>17</td>\n",
       "      <td>17</td>\n",
       "      <td>13</td>\n",
       "      <td>14</td>\n",
       "      <td>57</td>\n",
       "      <td>-0.008156</td>\n",
       "    </tr>\n",
       "    <tr>\n",
       "      <th>253</th>\n",
       "      <td>7</td>\n",
       "      <td>7</td>\n",
       "      <td>11</td>\n",
       "      <td>11</td>\n",
       "      <td>13</td>\n",
       "      <td>6</td>\n",
       "      <td>9</td>\n",
       "      <td>10</td>\n",
       "      <td>12</td>\n",
       "      <td>34</td>\n",
       "      <td>-0.010651</td>\n",
       "    </tr>\n",
       "    <tr>\n",
       "      <th>18164</th>\n",
       "      <td>1</td>\n",
       "      <td>1</td>\n",
       "      <td>2</td>\n",
       "      <td>2</td>\n",
       "      <td>1</td>\n",
       "      <td>2</td>\n",
       "      <td>1</td>\n",
       "      <td>1</td>\n",
       "      <td>0</td>\n",
       "      <td>9</td>\n",
       "      <td>-0.025465</td>\n",
       "    </tr>\n",
       "    <tr>\n",
       "      <th>6315</th>\n",
       "      <td>3</td>\n",
       "      <td>2</td>\n",
       "      <td>2</td>\n",
       "      <td>3</td>\n",
       "      <td>6</td>\n",
       "      <td>2</td>\n",
       "      <td>1</td>\n",
       "      <td>3</td>\n",
       "      <td>4</td>\n",
       "      <td>14</td>\n",
       "      <td>-0.024081</td>\n",
       "    </tr>\n",
       "  </tbody>\n",
       "</table>\n",
       "</div>"
      ],
      "text/plain": [
       "        1   2   3   4   5   6   7   8   9  10        ev\n",
       "id                                                     \n",
       "208    14  12   6  11   8  13  14  13  11  38 -0.029709\n",
       "6463   17  20  17  12  16  17  17  13  14  57 -0.008156\n",
       "253     7   7  11  11  13   6   9  10  12  34 -0.010651\n",
       "18164   1   1   2   2   1   2   1   1   0   9 -0.025465\n",
       "6315    3   2   2   3   6   2   1   3   4  14 -0.024081"
      ]
     },
     "execution_count": 3,
     "metadata": {},
     "output_type": "execute_result"
    }
   ],
   "source": [
    "train.sample(5)"
   ]
  },
  {
   "cell_type": "code",
   "execution_count": 4,
   "id": "9484aec1",
   "metadata": {
    "execution": {
     "iopub.execute_input": "2025-04-30T07:59:15.496205Z",
     "iopub.status.busy": "2025-04-30T07:59:15.495850Z",
     "iopub.status.idle": "2025-04-30T07:59:15.518111Z",
     "shell.execute_reply": "2025-04-30T07:59:15.516931Z"
    },
    "papermill": {
     "duration": 0.028502,
     "end_time": "2025-04-30T07:59:15.519703",
     "exception": false,
     "start_time": "2025-04-30T07:59:15.491201",
     "status": "completed"
    },
    "tags": []
   },
   "outputs": [
    {
     "name": "stdout",
     "output_type": "stream",
     "text": [
      "<class 'pandas.core.frame.DataFrame'>\n",
      "Index: 20500 entries, 0 to 20499\n",
      "Data columns (total 11 columns):\n",
      " #   Column  Non-Null Count  Dtype  \n",
      "---  ------  --------------  -----  \n",
      " 0   1       20500 non-null  int64  \n",
      " 1   2       20500 non-null  int64  \n",
      " 2   3       20500 non-null  int64  \n",
      " 3   4       20500 non-null  int64  \n",
      " 4   5       20500 non-null  int64  \n",
      " 5   6       20500 non-null  int64  \n",
      " 6   7       20500 non-null  int64  \n",
      " 7   8       20500 non-null  int64  \n",
      " 8   9       20500 non-null  int64  \n",
      " 9   10      20500 non-null  int64  \n",
      " 10  ev      20500 non-null  float64\n",
      "dtypes: float64(1), int64(10)\n",
      "memory usage: 1.9 MB\n"
     ]
    }
   ],
   "source": [
    "train.info()"
   ]
  },
  {
   "cell_type": "code",
   "execution_count": 5,
   "id": "801d9f41",
   "metadata": {
    "execution": {
     "iopub.execute_input": "2025-04-30T07:59:15.529523Z",
     "iopub.status.busy": "2025-04-30T07:59:15.529024Z",
     "iopub.status.idle": "2025-04-30T07:59:15.543963Z",
     "shell.execute_reply": "2025-04-30T07:59:15.542859Z"
    },
    "papermill": {
     "duration": 0.021948,
     "end_time": "2025-04-30T07:59:15.545815",
     "exception": false,
     "start_time": "2025-04-30T07:59:15.523867",
     "status": "completed"
    },
    "tags": []
   },
   "outputs": [],
   "source": [
    "num_cols = train.select_dtypes(include=['int64']).columns\n",
    "train[num_cols] = train[num_cols].astype('int8')\n",
    "test[num_cols] = test[num_cols].astype('int8')"
   ]
  },
  {
   "cell_type": "code",
   "execution_count": 6,
   "id": "5f231aae",
   "metadata": {
    "execution": {
     "iopub.execute_input": "2025-04-30T07:59:15.555600Z",
     "iopub.status.busy": "2025-04-30T07:59:15.555189Z",
     "iopub.status.idle": "2025-04-30T07:59:15.568096Z",
     "shell.execute_reply": "2025-04-30T07:59:15.566863Z"
    },
    "papermill": {
     "duration": 0.019957,
     "end_time": "2025-04-30T07:59:15.570203",
     "exception": false,
     "start_time": "2025-04-30T07:59:15.550246",
     "status": "completed"
    },
    "tags": []
   },
   "outputs": [
    {
     "name": "stdout",
     "output_type": "stream",
     "text": [
      "<class 'pandas.core.frame.DataFrame'>\n",
      "Index: 20500 entries, 0 to 20499\n",
      "Data columns (total 11 columns):\n",
      " #   Column  Non-Null Count  Dtype  \n",
      "---  ------  --------------  -----  \n",
      " 0   1       20500 non-null  int8   \n",
      " 1   2       20500 non-null  int8   \n",
      " 2   3       20500 non-null  int8   \n",
      " 3   4       20500 non-null  int8   \n",
      " 4   5       20500 non-null  int8   \n",
      " 5   6       20500 non-null  int8   \n",
      " 6   7       20500 non-null  int8   \n",
      " 7   8       20500 non-null  int8   \n",
      " 8   9       20500 non-null  int8   \n",
      " 9   10      20500 non-null  int8   \n",
      " 10  ev      20500 non-null  float64\n",
      "dtypes: float64(1), int8(10)\n",
      "memory usage: 520.5 KB\n"
     ]
    }
   ],
   "source": [
    "train.info()"
   ]
  },
  {
   "cell_type": "code",
   "execution_count": 7,
   "id": "ce43d384",
   "metadata": {
    "execution": {
     "iopub.execute_input": "2025-04-30T07:59:15.581155Z",
     "iopub.status.busy": "2025-04-30T07:59:15.580275Z",
     "iopub.status.idle": "2025-04-30T07:59:15.586760Z",
     "shell.execute_reply": "2025-04-30T07:59:15.585871Z"
    },
    "papermill": {
     "duration": 0.014122,
     "end_time": "2025-04-30T07:59:15.588358",
     "exception": false,
     "start_time": "2025-04-30T07:59:15.574236",
     "status": "completed"
    },
    "tags": []
   },
   "outputs": [
    {
     "data": {
      "text/plain": [
       "(20500, 11)"
      ]
     },
     "execution_count": 7,
     "metadata": {},
     "output_type": "execute_result"
    }
   ],
   "source": [
    "train.shape"
   ]
  },
  {
   "cell_type": "code",
   "execution_count": 8,
   "id": "806fd714",
   "metadata": {
    "execution": {
     "iopub.execute_input": "2025-04-30T07:59:15.597972Z",
     "iopub.status.busy": "2025-04-30T07:59:15.597630Z",
     "iopub.status.idle": "2025-04-30T07:59:15.603844Z",
     "shell.execute_reply": "2025-04-30T07:59:15.602912Z"
    },
    "papermill": {
     "duration": 0.012725,
     "end_time": "2025-04-30T07:59:15.605506",
     "exception": false,
     "start_time": "2025-04-30T07:59:15.592781",
     "status": "completed"
    },
    "tags": []
   },
   "outputs": [
    {
     "data": {
      "text/plain": [
       "(8655, 10)"
      ]
     },
     "execution_count": 8,
     "metadata": {},
     "output_type": "execute_result"
    }
   ],
   "source": [
    "test.shape"
   ]
  },
  {
   "cell_type": "code",
   "execution_count": 9,
   "id": "007e7ea4",
   "metadata": {
    "execution": {
     "iopub.execute_input": "2025-04-30T07:59:15.616262Z",
     "iopub.status.busy": "2025-04-30T07:59:15.615970Z",
     "iopub.status.idle": "2025-04-30T07:59:15.624752Z",
     "shell.execute_reply": "2025-04-30T07:59:15.623692Z"
    },
    "papermill": {
     "duration": 0.015395,
     "end_time": "2025-04-30T07:59:15.626488",
     "exception": false,
     "start_time": "2025-04-30T07:59:15.611093",
     "status": "completed"
    },
    "tags": []
   },
   "outputs": [
    {
     "data": {
      "text/plain": [
       "1     0\n",
       "2     0\n",
       "3     0\n",
       "4     0\n",
       "5     0\n",
       "6     0\n",
       "7     0\n",
       "8     0\n",
       "9     0\n",
       "10    0\n",
       "ev    0\n",
       "dtype: int64"
      ]
     },
     "execution_count": 9,
     "metadata": {},
     "output_type": "execute_result"
    }
   ],
   "source": [
    "train.isnull().sum()"
   ]
  },
  {
   "cell_type": "code",
   "execution_count": 10,
   "id": "289ae1aa",
   "metadata": {
    "execution": {
     "iopub.execute_input": "2025-04-30T07:59:15.636407Z",
     "iopub.status.busy": "2025-04-30T07:59:15.636112Z",
     "iopub.status.idle": "2025-04-30T07:59:15.646495Z",
     "shell.execute_reply": "2025-04-30T07:59:15.645509Z"
    },
    "papermill": {
     "duration": 0.017438,
     "end_time": "2025-04-30T07:59:15.648197",
     "exception": false,
     "start_time": "2025-04-30T07:59:15.630759",
     "status": "completed"
    },
    "tags": []
   },
   "outputs": [
    {
     "data": {
      "text/plain": [
       "1     0\n",
       "2     0\n",
       "3     0\n",
       "4     0\n",
       "5     0\n",
       "6     0\n",
       "7     0\n",
       "8     0\n",
       "9     0\n",
       "10    0\n",
       "dtype: int64"
      ]
     },
     "execution_count": 10,
     "metadata": {},
     "output_type": "execute_result"
    }
   ],
   "source": [
    "test.isnull().sum()"
   ]
  },
  {
   "cell_type": "code",
   "execution_count": 11,
   "id": "7d8bee17",
   "metadata": {
    "execution": {
     "iopub.execute_input": "2025-04-30T07:59:15.658855Z",
     "iopub.status.busy": "2025-04-30T07:59:15.657912Z",
     "iopub.status.idle": "2025-04-30T07:59:15.706408Z",
     "shell.execute_reply": "2025-04-30T07:59:15.705531Z"
    },
    "papermill": {
     "duration": 0.055466,
     "end_time": "2025-04-30T07:59:15.708001",
     "exception": false,
     "start_time": "2025-04-30T07:59:15.652535",
     "status": "completed"
    },
    "tags": []
   },
   "outputs": [
    {
     "data": {
      "text/html": [
       "<div>\n",
       "<style scoped>\n",
       "    .dataframe tbody tr th:only-of-type {\n",
       "        vertical-align: middle;\n",
       "    }\n",
       "\n",
       "    .dataframe tbody tr th {\n",
       "        vertical-align: top;\n",
       "    }\n",
       "\n",
       "    .dataframe thead th {\n",
       "        text-align: right;\n",
       "    }\n",
       "</style>\n",
       "<table border=\"1\" class=\"dataframe\">\n",
       "  <thead>\n",
       "    <tr style=\"text-align: right;\">\n",
       "      <th></th>\n",
       "      <th>1</th>\n",
       "      <th>2</th>\n",
       "      <th>3</th>\n",
       "      <th>4</th>\n",
       "      <th>5</th>\n",
       "      <th>6</th>\n",
       "      <th>7</th>\n",
       "      <th>8</th>\n",
       "      <th>9</th>\n",
       "      <th>10</th>\n",
       "      <th>ev</th>\n",
       "    </tr>\n",
       "  </thead>\n",
       "  <tbody>\n",
       "    <tr>\n",
       "      <th>count</th>\n",
       "      <td>20500.000000</td>\n",
       "      <td>20500.000000</td>\n",
       "      <td>20500.000000</td>\n",
       "      <td>20500.000000</td>\n",
       "      <td>20500.000000</td>\n",
       "      <td>20500.000000</td>\n",
       "      <td>20500.000000</td>\n",
       "      <td>20500.000000</td>\n",
       "      <td>20500.000000</td>\n",
       "      <td>20500.000000</td>\n",
       "      <td>20500.000000</td>\n",
       "    </tr>\n",
       "    <tr>\n",
       "      <th>mean</th>\n",
       "      <td>7.591756</td>\n",
       "      <td>7.601073</td>\n",
       "      <td>7.597951</td>\n",
       "      <td>7.577659</td>\n",
       "      <td>7.598439</td>\n",
       "      <td>7.592683</td>\n",
       "      <td>7.552049</td>\n",
       "      <td>7.568878</td>\n",
       "      <td>7.602439</td>\n",
       "      <td>30.334634</td>\n",
       "      <td>-0.023383</td>\n",
       "    </tr>\n",
       "    <tr>\n",
       "      <th>std</th>\n",
       "      <td>4.809277</td>\n",
       "      <td>4.771329</td>\n",
       "      <td>4.799255</td>\n",
       "      <td>4.764657</td>\n",
       "      <td>4.790892</td>\n",
       "      <td>4.796563</td>\n",
       "      <td>4.754059</td>\n",
       "      <td>4.773905</td>\n",
       "      <td>4.766625</td>\n",
       "      <td>17.658349</td>\n",
       "      <td>0.010041</td>\n",
       "    </tr>\n",
       "    <tr>\n",
       "      <th>min</th>\n",
       "      <td>0.000000</td>\n",
       "      <td>0.000000</td>\n",
       "      <td>0.000000</td>\n",
       "      <td>0.000000</td>\n",
       "      <td>0.000000</td>\n",
       "      <td>0.000000</td>\n",
       "      <td>0.000000</td>\n",
       "      <td>0.000000</td>\n",
       "      <td>0.000000</td>\n",
       "      <td>0.000000</td>\n",
       "      <td>-0.071232</td>\n",
       "    </tr>\n",
       "    <tr>\n",
       "      <th>25%</th>\n",
       "      <td>4.000000</td>\n",
       "      <td>4.000000</td>\n",
       "      <td>4.000000</td>\n",
       "      <td>4.000000</td>\n",
       "      <td>4.000000</td>\n",
       "      <td>4.000000</td>\n",
       "      <td>4.000000</td>\n",
       "      <td>4.000000</td>\n",
       "      <td>4.000000</td>\n",
       "      <td>15.000000</td>\n",
       "      <td>-0.029104</td>\n",
       "    </tr>\n",
       "    <tr>\n",
       "      <th>50%</th>\n",
       "      <td>7.000000</td>\n",
       "      <td>7.000000</td>\n",
       "      <td>7.000000</td>\n",
       "      <td>7.000000</td>\n",
       "      <td>7.000000</td>\n",
       "      <td>7.000000</td>\n",
       "      <td>7.000000</td>\n",
       "      <td>7.000000</td>\n",
       "      <td>7.000000</td>\n",
       "      <td>28.000000</td>\n",
       "      <td>-0.024109</td>\n",
       "    </tr>\n",
       "    <tr>\n",
       "      <th>75%</th>\n",
       "      <td>11.000000</td>\n",
       "      <td>11.000000</td>\n",
       "      <td>11.000000</td>\n",
       "      <td>11.000000</td>\n",
       "      <td>11.000000</td>\n",
       "      <td>11.000000</td>\n",
       "      <td>11.000000</td>\n",
       "      <td>11.000000</td>\n",
       "      <td>11.000000</td>\n",
       "      <td>44.000000</td>\n",
       "      <td>-0.018508</td>\n",
       "    </tr>\n",
       "    <tr>\n",
       "      <th>max</th>\n",
       "      <td>22.000000</td>\n",
       "      <td>22.000000</td>\n",
       "      <td>22.000000</td>\n",
       "      <td>21.000000</td>\n",
       "      <td>22.000000</td>\n",
       "      <td>22.000000</td>\n",
       "      <td>22.000000</td>\n",
       "      <td>22.000000</td>\n",
       "      <td>22.000000</td>\n",
       "      <td>74.000000</td>\n",
       "      <td>0.044198</td>\n",
       "    </tr>\n",
       "  </tbody>\n",
       "</table>\n",
       "</div>"
      ],
      "text/plain": [
       "                  1             2             3             4             5  \\\n",
       "count  20500.000000  20500.000000  20500.000000  20500.000000  20500.000000   \n",
       "mean       7.591756      7.601073      7.597951      7.577659      7.598439   \n",
       "std        4.809277      4.771329      4.799255      4.764657      4.790892   \n",
       "min        0.000000      0.000000      0.000000      0.000000      0.000000   \n",
       "25%        4.000000      4.000000      4.000000      4.000000      4.000000   \n",
       "50%        7.000000      7.000000      7.000000      7.000000      7.000000   \n",
       "75%       11.000000     11.000000     11.000000     11.000000     11.000000   \n",
       "max       22.000000     22.000000     22.000000     21.000000     22.000000   \n",
       "\n",
       "                  6             7             8             9            10  \\\n",
       "count  20500.000000  20500.000000  20500.000000  20500.000000  20500.000000   \n",
       "mean       7.592683      7.552049      7.568878      7.602439     30.334634   \n",
       "std        4.796563      4.754059      4.773905      4.766625     17.658349   \n",
       "min        0.000000      0.000000      0.000000      0.000000      0.000000   \n",
       "25%        4.000000      4.000000      4.000000      4.000000     15.000000   \n",
       "50%        7.000000      7.000000      7.000000      7.000000     28.000000   \n",
       "75%       11.000000     11.000000     11.000000     11.000000     44.000000   \n",
       "max       22.000000     22.000000     22.000000     22.000000     74.000000   \n",
       "\n",
       "                 ev  \n",
       "count  20500.000000  \n",
       "mean      -0.023383  \n",
       "std        0.010041  \n",
       "min       -0.071232  \n",
       "25%       -0.029104  \n",
       "50%       -0.024109  \n",
       "75%       -0.018508  \n",
       "max        0.044198  "
      ]
     },
     "execution_count": 11,
     "metadata": {},
     "output_type": "execute_result"
    }
   ],
   "source": [
    "train.describe()"
   ]
  },
  {
   "cell_type": "code",
   "execution_count": 12,
   "id": "1d36c30e",
   "metadata": {
    "execution": {
     "iopub.execute_input": "2025-04-30T07:59:15.718711Z",
     "iopub.status.busy": "2025-04-30T07:59:15.718301Z",
     "iopub.status.idle": "2025-04-30T07:59:15.752700Z",
     "shell.execute_reply": "2025-04-30T07:59:15.751737Z"
    },
    "papermill": {
     "duration": 0.041976,
     "end_time": "2025-04-30T07:59:15.754522",
     "exception": false,
     "start_time": "2025-04-30T07:59:15.712546",
     "status": "completed"
    },
    "tags": []
   },
   "outputs": [
    {
     "data": {
      "text/html": [
       "<div>\n",
       "<style scoped>\n",
       "    .dataframe tbody tr th:only-of-type {\n",
       "        vertical-align: middle;\n",
       "    }\n",
       "\n",
       "    .dataframe tbody tr th {\n",
       "        vertical-align: top;\n",
       "    }\n",
       "\n",
       "    .dataframe thead th {\n",
       "        text-align: right;\n",
       "    }\n",
       "</style>\n",
       "<table border=\"1\" class=\"dataframe\">\n",
       "  <thead>\n",
       "    <tr style=\"text-align: right;\">\n",
       "      <th></th>\n",
       "      <th>1</th>\n",
       "      <th>2</th>\n",
       "      <th>3</th>\n",
       "      <th>4</th>\n",
       "      <th>5</th>\n",
       "      <th>6</th>\n",
       "      <th>7</th>\n",
       "      <th>8</th>\n",
       "      <th>9</th>\n",
       "      <th>10</th>\n",
       "    </tr>\n",
       "  </thead>\n",
       "  <tbody>\n",
       "    <tr>\n",
       "      <th>count</th>\n",
       "      <td>8655.000000</td>\n",
       "      <td>8655.000000</td>\n",
       "      <td>8655.000000</td>\n",
       "      <td>8655.000000</td>\n",
       "      <td>8655.000000</td>\n",
       "      <td>8655.000000</td>\n",
       "      <td>8655.000000</td>\n",
       "      <td>8655.000000</td>\n",
       "      <td>8655.000000</td>\n",
       "      <td>8655.000000</td>\n",
       "    </tr>\n",
       "    <tr>\n",
       "      <th>mean</th>\n",
       "      <td>7.622415</td>\n",
       "      <td>7.614211</td>\n",
       "      <td>7.564298</td>\n",
       "      <td>7.553206</td>\n",
       "      <td>7.574466</td>\n",
       "      <td>7.541075</td>\n",
       "      <td>7.574003</td>\n",
       "      <td>7.549856</td>\n",
       "      <td>7.605893</td>\n",
       "      <td>30.395609</td>\n",
       "    </tr>\n",
       "    <tr>\n",
       "      <th>std</th>\n",
       "      <td>4.770199</td>\n",
       "      <td>4.773575</td>\n",
       "      <td>4.765060</td>\n",
       "      <td>4.773822</td>\n",
       "      <td>4.785457</td>\n",
       "      <td>4.737471</td>\n",
       "      <td>4.761329</td>\n",
       "      <td>4.762710</td>\n",
       "      <td>4.804795</td>\n",
       "      <td>17.683448</td>\n",
       "    </tr>\n",
       "    <tr>\n",
       "      <th>min</th>\n",
       "      <td>0.000000</td>\n",
       "      <td>0.000000</td>\n",
       "      <td>0.000000</td>\n",
       "      <td>0.000000</td>\n",
       "      <td>0.000000</td>\n",
       "      <td>0.000000</td>\n",
       "      <td>0.000000</td>\n",
       "      <td>0.000000</td>\n",
       "      <td>0.000000</td>\n",
       "      <td>0.000000</td>\n",
       "    </tr>\n",
       "    <tr>\n",
       "      <th>25%</th>\n",
       "      <td>4.000000</td>\n",
       "      <td>4.000000</td>\n",
       "      <td>4.000000</td>\n",
       "      <td>4.000000</td>\n",
       "      <td>4.000000</td>\n",
       "      <td>4.000000</td>\n",
       "      <td>4.000000</td>\n",
       "      <td>4.000000</td>\n",
       "      <td>4.000000</td>\n",
       "      <td>15.000000</td>\n",
       "    </tr>\n",
       "    <tr>\n",
       "      <th>50%</th>\n",
       "      <td>7.000000</td>\n",
       "      <td>7.000000</td>\n",
       "      <td>7.000000</td>\n",
       "      <td>7.000000</td>\n",
       "      <td>7.000000</td>\n",
       "      <td>7.000000</td>\n",
       "      <td>7.000000</td>\n",
       "      <td>7.000000</td>\n",
       "      <td>7.000000</td>\n",
       "      <td>28.000000</td>\n",
       "    </tr>\n",
       "    <tr>\n",
       "      <th>75%</th>\n",
       "      <td>11.000000</td>\n",
       "      <td>11.000000</td>\n",
       "      <td>11.000000</td>\n",
       "      <td>11.000000</td>\n",
       "      <td>11.000000</td>\n",
       "      <td>11.000000</td>\n",
       "      <td>11.000000</td>\n",
       "      <td>11.000000</td>\n",
       "      <td>11.000000</td>\n",
       "      <td>44.000000</td>\n",
       "    </tr>\n",
       "    <tr>\n",
       "      <th>max</th>\n",
       "      <td>22.000000</td>\n",
       "      <td>22.000000</td>\n",
       "      <td>22.000000</td>\n",
       "      <td>22.000000</td>\n",
       "      <td>23.000000</td>\n",
       "      <td>22.000000</td>\n",
       "      <td>21.000000</td>\n",
       "      <td>21.000000</td>\n",
       "      <td>23.000000</td>\n",
       "      <td>73.000000</td>\n",
       "    </tr>\n",
       "  </tbody>\n",
       "</table>\n",
       "</div>"
      ],
      "text/plain": [
       "                 1            2            3            4            5  \\\n",
       "count  8655.000000  8655.000000  8655.000000  8655.000000  8655.000000   \n",
       "mean      7.622415     7.614211     7.564298     7.553206     7.574466   \n",
       "std       4.770199     4.773575     4.765060     4.773822     4.785457   \n",
       "min       0.000000     0.000000     0.000000     0.000000     0.000000   \n",
       "25%       4.000000     4.000000     4.000000     4.000000     4.000000   \n",
       "50%       7.000000     7.000000     7.000000     7.000000     7.000000   \n",
       "75%      11.000000    11.000000    11.000000    11.000000    11.000000   \n",
       "max      22.000000    22.000000    22.000000    22.000000    23.000000   \n",
       "\n",
       "                 6            7            8            9           10  \n",
       "count  8655.000000  8655.000000  8655.000000  8655.000000  8655.000000  \n",
       "mean      7.541075     7.574003     7.549856     7.605893    30.395609  \n",
       "std       4.737471     4.761329     4.762710     4.804795    17.683448  \n",
       "min       0.000000     0.000000     0.000000     0.000000     0.000000  \n",
       "25%       4.000000     4.000000     4.000000     4.000000    15.000000  \n",
       "50%       7.000000     7.000000     7.000000     7.000000    28.000000  \n",
       "75%      11.000000    11.000000    11.000000    11.000000    44.000000  \n",
       "max      22.000000    21.000000    21.000000    23.000000    73.000000  "
      ]
     },
     "execution_count": 12,
     "metadata": {},
     "output_type": "execute_result"
    }
   ],
   "source": [
    "test.describe()"
   ]
  },
  {
   "cell_type": "code",
   "execution_count": 13,
   "id": "15d448e6",
   "metadata": {
    "execution": {
     "iopub.execute_input": "2025-04-30T07:59:15.765968Z",
     "iopub.status.busy": "2025-04-30T07:59:15.764836Z",
     "iopub.status.idle": "2025-04-30T07:59:16.112177Z",
     "shell.execute_reply": "2025-04-30T07:59:16.110958Z"
    },
    "papermill": {
     "duration": 0.354733,
     "end_time": "2025-04-30T07:59:16.114030",
     "exception": false,
     "start_time": "2025-04-30T07:59:15.759297",
     "status": "completed"
    },
    "tags": []
   },
   "outputs": [],
   "source": [
    "from sklearn.model_selection import KFold\n",
    "from sklearn.metrics import mean_squared_error\n",
    "\n",
    "X = train.copy()\n",
    "y = X.pop('ev')\n",
    "X_test = test.copy()\n",
    "\n",
    "n_folds=10\n",
    "kf = KFold(n_splits=n_folds, shuffle=True, random_state=34)\n",
    "\n",
    "oof_dnn = np.zeros(len(y))\n",
    "test_preds_dnn = np.zeros((len(X_test), n_folds))\n",
    "fold_mse_dnn = []\n"
   ]
  },
  {
   "cell_type": "code",
   "execution_count": 14,
   "id": "3b9523d2",
   "metadata": {
    "execution": {
     "iopub.execute_input": "2025-04-30T07:59:16.124961Z",
     "iopub.status.busy": "2025-04-30T07:59:16.124594Z",
     "iopub.status.idle": "2025-04-30T07:59:34.317174Z",
     "shell.execute_reply": "2025-04-30T07:59:34.316090Z"
    },
    "papermill": {
     "duration": 18.200786,
     "end_time": "2025-04-30T07:59:34.319538",
     "exception": false,
     "start_time": "2025-04-30T07:59:16.118752",
     "status": "completed"
    },
    "tags": []
   },
   "outputs": [
    {
     "name": "stderr",
     "output_type": "stream",
     "text": [
      "2025-04-30 07:59:18.264340: E external/local_xla/xla/stream_executor/cuda/cuda_fft.cc:477] Unable to register cuFFT factory: Attempting to register factory for plugin cuFFT when one has already been registered\n",
      "WARNING: All log messages before absl::InitializeLog() is called are written to STDERR\n",
      "E0000 00:00:1745999958.557953      13 cuda_dnn.cc:8310] Unable to register cuDNN factory: Attempting to register factory for plugin cuDNN when one has already been registered\n",
      "E0000 00:00:1745999958.643554      13 cuda_blas.cc:1418] Unable to register cuBLAS factory: Attempting to register factory for plugin cuBLAS when one has already been registered\n"
     ]
    }
   ],
   "source": [
    "from sklearn.preprocessing import StandardScaler\n",
    "import tensorflow as tf\n",
    "from tensorflow.keras.models import Sequential, Model\n",
    "from tensorflow.keras.layers import Dense, Input, BatchNormalization\n",
    "from tensorflow.keras.callbacks import EarlyStopping"
   ]
  },
  {
   "cell_type": "code",
   "execution_count": 15,
   "id": "39da3c0b",
   "metadata": {
    "execution": {
     "iopub.execute_input": "2025-04-30T07:59:34.331196Z",
     "iopub.status.busy": "2025-04-30T07:59:34.330482Z",
     "iopub.status.idle": "2025-04-30T08:14:44.813476Z",
     "shell.execute_reply": "2025-04-30T08:14:44.812302Z"
    },
    "papermill": {
     "duration": 910.490712,
     "end_time": "2025-04-30T08:14:44.815242",
     "exception": false,
     "start_time": "2025-04-30T07:59:34.324530",
     "status": "completed"
    },
    "tags": []
   },
   "outputs": [
    {
     "name": "stderr",
     "output_type": "stream",
     "text": [
      "2025-04-30 07:59:34.390479: E external/local_xla/xla/stream_executor/cuda/cuda_driver.cc:152] failed call to cuInit: INTERNAL: CUDA error: Failed call to cuInit: UNKNOWN ERROR (303)\n"
     ]
    },
    {
     "name": "stdout",
     "output_type": "stream",
     "text": [
      "\u001b[1m65/65\u001b[0m \u001b[32m━━━━━━━━━━━━━━━━━━━━\u001b[0m\u001b[37m\u001b[0m \u001b[1m0s\u001b[0m 3ms/step\n",
      "\u001b[1m271/271\u001b[0m \u001b[32m━━━━━━━━━━━━━━━━━━━━\u001b[0m\u001b[37m\u001b[0m \u001b[1m1s\u001b[0m 2ms/step\n",
      "\u001b[1m65/65\u001b[0m \u001b[32m━━━━━━━━━━━━━━━━━━━━\u001b[0m\u001b[37m\u001b[0m \u001b[1m0s\u001b[0m 2ms/step\n",
      "\u001b[1m271/271\u001b[0m \u001b[32m━━━━━━━━━━━━━━━━━━━━\u001b[0m\u001b[37m\u001b[0m \u001b[1m0s\u001b[0m 1ms/step\n",
      "\u001b[1m65/65\u001b[0m \u001b[32m━━━━━━━━━━━━━━━━━━━━\u001b[0m\u001b[37m\u001b[0m \u001b[1m0s\u001b[0m 3ms/step\n",
      "\u001b[1m271/271\u001b[0m \u001b[32m━━━━━━━━━━━━━━━━━━━━\u001b[0m\u001b[37m\u001b[0m \u001b[1m0s\u001b[0m 2ms/step\n",
      "Fold 1 MSE: 0.000000490\n",
      "\u001b[1m65/65\u001b[0m \u001b[32m━━━━━━━━━━━━━━━━━━━━\u001b[0m\u001b[37m\u001b[0m \u001b[1m0s\u001b[0m 3ms/step\n",
      "\u001b[1m271/271\u001b[0m \u001b[32m━━━━━━━━━━━━━━━━━━━━\u001b[0m\u001b[37m\u001b[0m \u001b[1m0s\u001b[0m 2ms/step\n",
      "\u001b[1m65/65\u001b[0m \u001b[32m━━━━━━━━━━━━━━━━━━━━\u001b[0m\u001b[37m\u001b[0m \u001b[1m0s\u001b[0m 3ms/step\n",
      "\u001b[1m271/271\u001b[0m \u001b[32m━━━━━━━━━━━━━━━━━━━━\u001b[0m\u001b[37m\u001b[0m \u001b[1m0s\u001b[0m 2ms/step\n",
      "\u001b[1m65/65\u001b[0m \u001b[32m━━━━━━━━━━━━━━━━━━━━\u001b[0m\u001b[37m\u001b[0m \u001b[1m0s\u001b[0m 3ms/step\n",
      "\u001b[1m271/271\u001b[0m \u001b[32m━━━━━━━━━━━━━━━━━━━━\u001b[0m\u001b[37m\u001b[0m \u001b[1m0s\u001b[0m 2ms/step\n",
      "Fold 2 MSE: 0.000000704\n",
      "\u001b[1m65/65\u001b[0m \u001b[32m━━━━━━━━━━━━━━━━━━━━\u001b[0m\u001b[37m\u001b[0m \u001b[1m0s\u001b[0m 2ms/step\n",
      "\u001b[1m271/271\u001b[0m \u001b[32m━━━━━━━━━━━━━━━━━━━━\u001b[0m\u001b[37m\u001b[0m \u001b[1m0s\u001b[0m 2ms/step\n",
      "\u001b[1m65/65\u001b[0m \u001b[32m━━━━━━━━━━━━━━━━━━━━\u001b[0m\u001b[37m\u001b[0m \u001b[1m0s\u001b[0m 2ms/step\n",
      "\u001b[1m271/271\u001b[0m \u001b[32m━━━━━━━━━━━━━━━━━━━━\u001b[0m\u001b[37m\u001b[0m \u001b[1m0s\u001b[0m 1ms/step\n",
      "\u001b[1m65/65\u001b[0m \u001b[32m━━━━━━━━━━━━━━━━━━━━\u001b[0m\u001b[37m\u001b[0m \u001b[1m0s\u001b[0m 2ms/step\n",
      "\u001b[1m271/271\u001b[0m \u001b[32m━━━━━━━━━━━━━━━━━━━━\u001b[0m\u001b[37m\u001b[0m \u001b[1m0s\u001b[0m 1ms/step\n",
      "Fold 3 MSE: 0.000000654\n",
      "\u001b[1m65/65\u001b[0m \u001b[32m━━━━━━━━━━━━━━━━━━━━\u001b[0m\u001b[37m\u001b[0m \u001b[1m0s\u001b[0m 3ms/step\n",
      "\u001b[1m271/271\u001b[0m \u001b[32m━━━━━━━━━━━━━━━━━━━━\u001b[0m\u001b[37m\u001b[0m \u001b[1m0s\u001b[0m 2ms/step\n",
      "\u001b[1m65/65\u001b[0m \u001b[32m━━━━━━━━━━━━━━━━━━━━\u001b[0m\u001b[37m\u001b[0m \u001b[1m0s\u001b[0m 3ms/step\n",
      "\u001b[1m271/271\u001b[0m \u001b[32m━━━━━━━━━━━━━━━━━━━━\u001b[0m\u001b[37m\u001b[0m \u001b[1m1s\u001b[0m 2ms/step\n",
      "\u001b[1m65/65\u001b[0m \u001b[32m━━━━━━━━━━━━━━━━━━━━\u001b[0m\u001b[37m\u001b[0m \u001b[1m0s\u001b[0m 2ms/step\n",
      "\u001b[1m271/271\u001b[0m \u001b[32m━━━━━━━━━━━━━━━━━━━━\u001b[0m\u001b[37m\u001b[0m \u001b[1m0s\u001b[0m 1ms/step\n",
      "Fold 4 MSE: 0.000000559\n",
      "\u001b[1m65/65\u001b[0m \u001b[32m━━━━━━━━━━━━━━━━━━━━\u001b[0m\u001b[37m\u001b[0m \u001b[1m0s\u001b[0m 2ms/step\n",
      "\u001b[1m271/271\u001b[0m \u001b[32m━━━━━━━━━━━━━━━━━━━━\u001b[0m\u001b[37m\u001b[0m \u001b[1m0s\u001b[0m 1ms/step\n",
      "\u001b[1m65/65\u001b[0m \u001b[32m━━━━━━━━━━━━━━━━━━━━\u001b[0m\u001b[37m\u001b[0m \u001b[1m0s\u001b[0m 3ms/step\n",
      "\u001b[1m271/271\u001b[0m \u001b[32m━━━━━━━━━━━━━━━━━━━━\u001b[0m\u001b[37m\u001b[0m \u001b[1m0s\u001b[0m 2ms/step\n",
      "\u001b[1m65/65\u001b[0m \u001b[32m━━━━━━━━━━━━━━━━━━━━\u001b[0m\u001b[37m\u001b[0m \u001b[1m0s\u001b[0m 2ms/step\n",
      "\u001b[1m271/271\u001b[0m \u001b[32m━━━━━━━━━━━━━━━━━━━━\u001b[0m\u001b[37m\u001b[0m \u001b[1m0s\u001b[0m 1ms/step\n",
      "Fold 5 MSE: 0.000000519\n",
      "\u001b[1m65/65\u001b[0m \u001b[32m━━━━━━━━━━━━━━━━━━━━\u001b[0m\u001b[37m\u001b[0m \u001b[1m0s\u001b[0m 2ms/step\n",
      "\u001b[1m271/271\u001b[0m \u001b[32m━━━━━━━━━━━━━━━━━━━━\u001b[0m\u001b[37m\u001b[0m \u001b[1m0s\u001b[0m 1ms/step\n",
      "\u001b[1m65/65\u001b[0m \u001b[32m━━━━━━━━━━━━━━━━━━━━\u001b[0m\u001b[37m\u001b[0m \u001b[1m0s\u001b[0m 2ms/step\n",
      "\u001b[1m271/271\u001b[0m \u001b[32m━━━━━━━━━━━━━━━━━━━━\u001b[0m\u001b[37m\u001b[0m \u001b[1m0s\u001b[0m 1ms/step\n",
      "\u001b[1m65/65\u001b[0m \u001b[32m━━━━━━━━━━━━━━━━━━━━\u001b[0m\u001b[37m\u001b[0m \u001b[1m0s\u001b[0m 2ms/step\n",
      "\u001b[1m271/271\u001b[0m \u001b[32m━━━━━━━━━━━━━━━━━━━━\u001b[0m\u001b[37m\u001b[0m \u001b[1m0s\u001b[0m 1ms/step\n",
      "Fold 6 MSE: 0.000000628\n",
      "\u001b[1m65/65\u001b[0m \u001b[32m━━━━━━━━━━━━━━━━━━━━\u001b[0m\u001b[37m\u001b[0m \u001b[1m0s\u001b[0m 2ms/step\n",
      "\u001b[1m271/271\u001b[0m \u001b[32m━━━━━━━━━━━━━━━━━━━━\u001b[0m\u001b[37m\u001b[0m \u001b[1m0s\u001b[0m 1ms/step\n",
      "\u001b[1m65/65\u001b[0m \u001b[32m━━━━━━━━━━━━━━━━━━━━\u001b[0m\u001b[37m\u001b[0m \u001b[1m0s\u001b[0m 2ms/step\n",
      "\u001b[1m271/271\u001b[0m \u001b[32m━━━━━━━━━━━━━━━━━━━━\u001b[0m\u001b[37m\u001b[0m \u001b[1m0s\u001b[0m 1ms/step\n",
      "\u001b[1m65/65\u001b[0m \u001b[32m━━━━━━━━━━━━━━━━━━━━\u001b[0m\u001b[37m\u001b[0m \u001b[1m0s\u001b[0m 2ms/step\n",
      "\u001b[1m271/271\u001b[0m \u001b[32m━━━━━━━━━━━━━━━━━━━━\u001b[0m\u001b[37m\u001b[0m \u001b[1m0s\u001b[0m 2ms/step\n",
      "Fold 7 MSE: 0.000000421\n",
      "\u001b[1m65/65\u001b[0m \u001b[32m━━━━━━━━━━━━━━━━━━━━\u001b[0m\u001b[37m\u001b[0m \u001b[1m0s\u001b[0m 2ms/step\n",
      "\u001b[1m271/271\u001b[0m \u001b[32m━━━━━━━━━━━━━━━━━━━━\u001b[0m\u001b[37m\u001b[0m \u001b[1m0s\u001b[0m 1ms/step\n",
      "\u001b[1m65/65\u001b[0m \u001b[32m━━━━━━━━━━━━━━━━━━━━\u001b[0m\u001b[37m\u001b[0m \u001b[1m0s\u001b[0m 2ms/step\n",
      "\u001b[1m271/271\u001b[0m \u001b[32m━━━━━━━━━━━━━━━━━━━━\u001b[0m\u001b[37m\u001b[0m \u001b[1m0s\u001b[0m 1ms/step\n",
      "\u001b[1m65/65\u001b[0m \u001b[32m━━━━━━━━━━━━━━━━━━━━\u001b[0m\u001b[37m\u001b[0m \u001b[1m0s\u001b[0m 2ms/step\n",
      "\u001b[1m271/271\u001b[0m \u001b[32m━━━━━━━━━━━━━━━━━━━━\u001b[0m\u001b[37m\u001b[0m \u001b[1m0s\u001b[0m 1ms/step\n",
      "Fold 8 MSE: 0.000000551\n",
      "\u001b[1m65/65\u001b[0m \u001b[32m━━━━━━━━━━━━━━━━━━━━\u001b[0m\u001b[37m\u001b[0m \u001b[1m0s\u001b[0m 2ms/step\n",
      "\u001b[1m271/271\u001b[0m \u001b[32m━━━━━━━━━━━━━━━━━━━━\u001b[0m\u001b[37m\u001b[0m \u001b[1m0s\u001b[0m 1ms/step\n",
      "\u001b[1m65/65\u001b[0m \u001b[32m━━━━━━━━━━━━━━━━━━━━\u001b[0m\u001b[37m\u001b[0m \u001b[1m0s\u001b[0m 2ms/step\n",
      "\u001b[1m271/271\u001b[0m \u001b[32m━━━━━━━━━━━━━━━━━━━━\u001b[0m\u001b[37m\u001b[0m \u001b[1m0s\u001b[0m 1ms/step\n",
      "\u001b[1m65/65\u001b[0m \u001b[32m━━━━━━━━━━━━━━━━━━━━\u001b[0m\u001b[37m\u001b[0m \u001b[1m0s\u001b[0m 2ms/step\n",
      "\u001b[1m271/271\u001b[0m \u001b[32m━━━━━━━━━━━━━━━━━━━━\u001b[0m\u001b[37m\u001b[0m \u001b[1m0s\u001b[0m 1ms/step\n",
      "Fold 9 MSE: 0.000000528\n",
      "\u001b[1m65/65\u001b[0m \u001b[32m━━━━━━━━━━━━━━━━━━━━\u001b[0m\u001b[37m\u001b[0m \u001b[1m0s\u001b[0m 3ms/step\n",
      "\u001b[1m271/271\u001b[0m \u001b[32m━━━━━━━━━━━━━━━━━━━━\u001b[0m\u001b[37m\u001b[0m \u001b[1m0s\u001b[0m 1ms/step\n",
      "\u001b[1m65/65\u001b[0m \u001b[32m━━━━━━━━━━━━━━━━━━━━\u001b[0m\u001b[37m\u001b[0m \u001b[1m0s\u001b[0m 2ms/step\n",
      "\u001b[1m271/271\u001b[0m \u001b[32m━━━━━━━━━━━━━━━━━━━━\u001b[0m\u001b[37m\u001b[0m \u001b[1m0s\u001b[0m 1ms/step\n",
      "\u001b[1m65/65\u001b[0m \u001b[32m━━━━━━━━━━━━━━━━━━━━\u001b[0m\u001b[37m\u001b[0m \u001b[1m0s\u001b[0m 2ms/step\n",
      "\u001b[1m271/271\u001b[0m \u001b[32m━━━━━━━━━━━━━━━━━━━━\u001b[0m\u001b[37m\u001b[0m \u001b[1m0s\u001b[0m 1ms/step\n",
      "Fold 10 MSE: 0.000000626\n",
      "\n",
      "Overall OOF MSE: 0.00000057\n",
      "Test predictions (first 10): [-0.0216666   0.0005     -0.02263226 -0.02932176 -0.01868312 -0.02009202\n",
      " -0.00573171 -0.02312928 -0.02532496 -0.03029897]\n"
     ]
    }
   ],
   "source": [
    "oof_pred_dnn = np.zeros(len(X))\n",
    "test_preds_dnn = np.zeros((len(X_test), n_folds))\n",
    "fold_mse_dnn = []\n",
    "\n",
    "for fold, (train_idx, val_idx) in enumerate(kf.split(X), start=1):\n",
    "    X_train, X_val = X.iloc[train_idx], X.iloc[val_idx]\n",
    "    y_train, y_val = y.iloc[train_idx], y.iloc[val_idx]\n",
    "\n",
    "    scaler = StandardScaler()\n",
    "    X_train_scaled = scaler.fit_transform(X_train)\n",
    "    X_val_scaled = scaler.transform(X_val)\n",
    "    X_test_scaled = scaler.transform(X_test) \n",
    "\n",
    "    def build_model():\n",
    "        return Sequential([\n",
    "            Input(shape=(X_train_scaled.shape[1],)),\n",
    "            Dense(256, activation='relu'),\n",
    "            Dense(128, activation='relu'),\n",
    "            Dense(64, activation='leaky_relu'),\n",
    "            Dense(1)\n",
    "        ])\n",
    "\n",
    "    val_preds, test_preds = [], []\n",
    "    for rep in range(3):\n",
    "        np.random.seed(34 + rep)\n",
    "        tf.random.set_seed(34 + rep)\n",
    "        \n",
    "        model = build_model()\n",
    "        model.compile(optimizer='adam', loss='mse')\n",
    "        \n",
    "        model.fit(\n",
    "            X_train_scaled, y_train,\n",
    "            validation_data=(X_val_scaled, y_val),\n",
    "            epochs=20,\n",
    "            batch_size=32,\n",
    "            callbacks=[EarlyStopping(patience=50, restore_best_weights=True)],\n",
    "            verbose=0\n",
    "        )\n",
    "        \n",
    "        val_preds.append(model.predict(X_val_scaled).flatten())\n",
    "        test_preds.append(model.predict(X_test_scaled).flatten()) \n",
    "\n",
    "    fold_val_pred = np.mean(val_preds, axis=0)\n",
    "    fold_test_pred = np.mean(test_preds, axis=0)\n",
    "    \n",
    "    fold_mse = mean_squared_error(y_val, fold_val_pred)\n",
    "    fold_mse_dnn.append(fold_mse)\n",
    "    oof_pred_dnn[val_idx] = fold_val_pred\n",
    "    test_preds_dnn[:, fold-1] = fold_test_pred\n",
    "    \n",
    "    print(f\"Fold {fold} MSE: {fold_mse:.9f}\")\n",
    "\n",
    "final_test_pred_dnn = test_preds_dnn.mean(axis=1)\n",
    "print(f\"\\nOverall OOF MSE: {mean_squared_error(y, oof_pred_dnn):.8f}\")\n",
    "print(\"Test predictions (first 10):\", final_test_pred_dnn[:10])"
   ]
  },
  {
   "cell_type": "code",
   "execution_count": 16,
   "id": "9ef5134f",
   "metadata": {
    "execution": {
     "iopub.execute_input": "2025-04-30T08:14:44.868309Z",
     "iopub.status.busy": "2025-04-30T08:14:44.867948Z",
     "iopub.status.idle": "2025-04-30T08:14:44.928463Z",
     "shell.execute_reply": "2025-04-30T08:14:44.927248Z"
    },
    "papermill": {
     "duration": 0.088161,
     "end_time": "2025-04-30T08:14:44.930136",
     "exception": false,
     "start_time": "2025-04-30T08:14:44.841975",
     "status": "completed"
    },
    "tags": []
   },
   "outputs": [
    {
     "name": "stdout",
     "output_type": "stream",
     "text": [
      "Your submission was successfully saved!\n"
     ]
    }
   ],
   "source": [
    "sub = pd.read_csv('/kaggle/input/black-jack-smart-effect-of-removal-ml/sample_submission.csv')\n",
    "sub['ev'] = final_test_pred_dnn \n",
    "sub.to_csv('submission.csv', index=False)\n",
    "print(\"Your submission was successfully saved!\")"
   ]
  }
 ],
 "metadata": {
  "kaggle": {
   "accelerator": "none",
   "dataSources": [
    {
     "databundleVersionId": 11195319,
     "sourceId": 94020,
     "sourceType": "competition"
    }
   ],
   "dockerImageVersionId": 31012,
   "isGpuEnabled": false,
   "isInternetEnabled": true,
   "language": "python",
   "sourceType": "notebook"
  },
  "kernelspec": {
   "display_name": "Python 3",
   "language": "python",
   "name": "python3"
  },
  "language_info": {
   "codemirror_mode": {
    "name": "ipython",
    "version": 3
   },
   "file_extension": ".py",
   "mimetype": "text/x-python",
   "name": "python",
   "nbconvert_exporter": "python",
   "pygments_lexer": "ipython3",
   "version": "3.11.11"
  },
  "papermill": {
   "default_parameters": {},
   "duration": 942.701088,
   "end_time": "2025-04-30T08:14:48.520186",
   "environment_variables": {},
   "exception": null,
   "input_path": "__notebook__.ipynb",
   "output_path": "__notebook__.ipynb",
   "parameters": {},
   "start_time": "2025-04-30T07:59:05.819098",
   "version": "2.6.0"
  }
 },
 "nbformat": 4,
 "nbformat_minor": 5
}
